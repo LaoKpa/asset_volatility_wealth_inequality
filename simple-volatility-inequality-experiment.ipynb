{
 "cells": [
  {
   "cell_type": "code",
   "execution_count": 226,
   "metadata": {},
   "outputs": [],
   "source": [
    "import numpy as np\n",
    "from functions.inequality import gini"
   ]
  },
  {
   "cell_type": "markdown",
   "metadata": {},
   "source": [
    "# Repeat the simple experiment from McBride 2014\n",
    "\n",
    "https://taxfoundation.org/market-volatility-alone-can-cause-inequality/\n",
    "\n",
    "If you take 100 individuals and give them each a random rate of return every year for 100 years, it turns out that market volatility alone generates a tremendous amount of wealth inequality.\n",
    "\n",
    "create 100 individuals with equal wealth \n",
    "\n",
    "generate random return for each of them for 100 periods\n",
    "\n",
    "change stdev return "
   ]
  },
  {
   "cell_type": "code",
   "execution_count": 235,
   "metadata": {},
   "outputs": [],
   "source": [
    "periods = 500\n",
    "stdev = 0.01"
   ]
  },
  {
   "cell_type": "code",
   "execution_count": 236,
   "metadata": {},
   "outputs": [],
   "source": [
    "# create 100 individuals equal wealth\n",
    "pop_size = 100\n",
    "population = [[10] for x in range(pop_size)]"
   ]
  },
  {
   "cell_type": "markdown",
   "metadata": {},
   "source": [
    "For 100 periods generate a random return for every agent with an average of 0 and a standard devation of $\\sigma$"
   ]
  },
  {
   "cell_type": "code",
   "execution_count": 237,
   "metadata": {},
   "outputs": [],
   "source": [
    "# calculate wealth for one agent\n",
    "for i in range(pop_size):\n",
    "    returns = np.random.normal(loc=0.0, scale=stdev, size=periods)\n",
    "    for x in range(1, len(returns)):\n",
    "        population[i].append(population[0][-1] * (1 + returns[x]))"
   ]
  },
  {
   "cell_type": "markdown",
   "metadata": {},
   "source": [
    "Calculate the palma ratio of the population for a certain time period"
   ]
  },
  {
   "cell_type": "code",
   "execution_count": 238,
   "metadata": {},
   "outputs": [],
   "source": [
    "t = 99\n",
    "wealth_distr_t = [population[agent][t] for agent in range(pop_size)]"
   ]
  },
  {
   "cell_type": "code",
   "execution_count": 239,
   "metadata": {},
   "outputs": [],
   "source": [
    "def calc_palma(wealth_distr):\n",
    "    share_top_10 = sum(np.sort(wealth_distr)[int(len(wealth_distr) * 0.9):]) / sum(wealth_distr)\n",
    "    share_bottom_40 = sum(np.sort(wealth_distr)[:int(len(wealth_distr) * 0.4)]) / sum(wealth_distr)\n",
    "    return share_top_10 / share_bottom_40"
   ]
  },
  {
   "cell_type": "code",
   "execution_count": 240,
   "metadata": {},
   "outputs": [
    {
     "data": {
      "text/plain": [
       "0.25888347388774086"
      ]
     },
     "execution_count": 240,
     "metadata": {},
     "output_type": "execute_result"
    }
   ],
   "source": [
    "calc_palma(wealth_distr_t)"
   ]
  },
  {
   "cell_type": "code",
   "execution_count": 241,
   "metadata": {},
   "outputs": [
    {
     "data": {
      "text/plain": [
       "0.008138295251634543"
      ]
     },
     "execution_count": 241,
     "metadata": {},
     "output_type": "execute_result"
    }
   ],
   "source": [
    "gini(np.array(wealth_distr_t))"
   ]
  },
  {
   "cell_type": "code",
   "execution_count": null,
   "metadata": {},
   "outputs": [],
   "source": []
  }
 ],
 "metadata": {
  "kernelspec": {
   "display_name": "Python 3",
   "language": "python",
   "name": "python3"
  },
  "language_info": {
   "codemirror_mode": {
    "name": "ipython",
    "version": 3
   },
   "file_extension": ".py",
   "mimetype": "text/x-python",
   "name": "python",
   "nbconvert_exporter": "python",
   "pygments_lexer": "ipython3",
   "version": "3.6.8"
  }
 },
 "nbformat": 4,
 "nbformat_minor": 2
}
