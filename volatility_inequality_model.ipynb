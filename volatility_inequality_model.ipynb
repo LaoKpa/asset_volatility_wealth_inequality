{
 "cells": [
  {
   "cell_type": "code",
   "execution_count": 1,
   "metadata": {},
   "outputs": [],
   "source": [
    "%matplotlib inline\n",
    "import numpy as np\n",
    "import pandas as pd\n",
    "import json\n",
    "import math\n",
    "import matplotlib.pyplot as plt\n",
    "from init_objects import *\n",
    "from functions.helpers import organise_data, hypothetical_series, get_specific_bootstraps_moments, confidence_interval\n",
    "from functions.inequality import gini\n",
    "from model import *\n",
    "import statsmodels.api as sm\n",
    "from matplotlib import style\n",
    "from functions.evolutionaryalgo import *\n",
    "import scipy.stats as stats\n",
    "from SALib.sample import latin"
   ]
  },
  {
   "cell_type": "code",
   "execution_count": 2,
   "metadata": {},
   "outputs": [],
   "source": [
    "style.use('seaborn-ticks')"
   ]
  },
  {
   "cell_type": "markdown",
   "metadata": {},
   "source": [
    "# Asset price volatility and wealth inequality\n",
    "\n",
    "This notebook contains the following steps:\n",
    "\n",
    "1. Parameter calibration and estimation\n",
    "2. Model dynamics\n",
    "3. Experiment\n",
    "\n",
    "## 1 Parameter calibration and estimation\n",
    "\n",
    "### 1.1 Collect data"
   ]
  },
  {
   "cell_type": "code",
   "execution_count": 3,
   "metadata": {},
   "outputs": [],
   "source": [
    "shiller_data = pd.read_excel('http://www.econ.yale.edu/~shiller/data/ie_data.xls', header=7)[:-3]\n",
    "p = pd.Series(np.array(shiller_data.iloc[1174:-1]['Price'])) #starting in 1952  was 1224\n",
    "price_div = pd.Series(np.array(shiller_data.iloc[1174:-1]['CAPE']))\n",
    "p_returns = pd.Series(np.array(shiller_data.iloc[1174:]['Price'])).pct_change()[1:]\n",
    "pd_returns = pd.Series(np.array(shiller_data.iloc[1174:]['CAPE'])).pct_change()[1:]"
   ]
  },
  {
   "cell_type": "markdown",
   "metadata": {},
   "source": [
    "### 1.2 calibration\n",
    "\n",
    "First, I set two parameters for computational efficiency"
   ]
  },
  {
   "cell_type": "markdown",
   "metadata": {},
   "source": [
    "Then, I calibrate parameters using data and literature. "
   ]
  },
  {
   "cell_type": "code",
   "execution_count": 4,
   "metadata": {},
   "outputs": [],
   "source": [
    "params = {\"trader_sample_size\": 10, # selected for comp efficiency\n",
    "          \"n_traders\": 1000, # selected for comp efficiency\n",
    "          \"init_stocks\": int((21780000000 / 267.33) / float(1000000)), # market valuation of Vanguard S&P 500 / share price \n",
    "          \"ticks\": len(p), # lenght of reference data\n",
    "          \"fundamental_value\": p.mean(), # average value of reference data, assuming efficient markets\n",
    "          \"std_fundamental\": p_returns.std(), # standard deviation of returns sp price, assuming efficient markets\n",
    "          \"base_risk_aversion\": 0.7, # estimate from Kim & Lee (2012)\n",
    "          'spread_max': 0.004087, # estimate from Riordan & Storkenmaier (2012)\n",
    "          \"horizon\": int(len(p) * 0.35), # estimate based on average churn ratio found by Cella, Ellul and Giannetti (2013)\n",
    "          \"std_noise\": 0.01, \n",
    "          \"w_random\": 1.0, \n",
    "          # parameter only used for experiment\n",
    "          \"mean_reversion\": 0.0,\n",
    "          # fixed / not modelled parameters\n",
    "          \"fundamentalist_horizon_multiplier\": 1.0,\n",
    "          \"strat_share_chartists\": 0.0,\n",
    "          \"mutation_intensity\": 0.0,\n",
    "          \"average_learning_ability\": 0.0,\n",
    "          \"trades_per_tick\": 1\n",
    "         }"
   ]
  },
  {
   "cell_type": "code",
   "execution_count": 5,
   "metadata": {},
   "outputs": [
    {
     "data": {
      "text/plain": [
       "{'trader_sample_size': 10,\n",
       " 'n_traders': 1000,\n",
       " 'init_stocks': 81,\n",
       " 'ticks': 606,\n",
       " 'fundamental_value': 1112.2356754564078,\n",
       " 'std_fundamental': 0.036106530849401956,\n",
       " 'base_risk_aversion': 0.7,\n",
       " 'spread_max': 0.004087,\n",
       " 'horizon': 212,\n",
       " 'std_noise': 0.01,\n",
       " 'w_random': 1.0,\n",
       " 'mean_reversion': 0.0,\n",
       " 'fundamentalist_horizon_multiplier': 1.0,\n",
       " 'strat_share_chartists': 0.0,\n",
       " 'mutation_intensity': 0.0,\n",
       " 'average_learning_ability': 0.0,\n",
       " 'trades_per_tick': 1}"
      ]
     },
     "execution_count": 5,
     "metadata": {},
     "output_type": "execute_result"
    }
   ],
   "source": [
    "params"
   ]
  },
  {
   "cell_type": "markdown",
   "metadata": {},
   "source": [
    "Finally, there are two parameters left which are difficult to calibrate. Therefore, I estimate these values using the method of simulated moments. The starting point of this method is finding appropriate moments which the model should be able to replicate. I note that there should be more moments than parameters. Since 2 parameters need to be estimated, 3 moments are needed. Since this is a highly stylized model, I am only interested in the model replicating some basic moments of the price return series. The parameters are the average, standard deviation and average autocorrelation over 25 lags. \n",
    "\n",
    "First, I calculate these moments for the empirical data. "
   ]
  },
  {
   "cell_type": "code",
   "execution_count": 6,
   "metadata": {},
   "outputs": [
    {
     "data": {
      "text/plain": [
       "array([0.00284313, 0.0094694 ])"
      ]
     },
     "execution_count": 6,
     "metadata": {},
     "output_type": "execute_result"
    }
   ],
   "source": [
    "emp_moments = np.array([\n",
    "    p_returns.mean(),\n",
    "    #p_returns.std(),\n",
    "    autocorrelation_returns(p_returns, 25),\n",
    "    ])\n",
    "emp_moments"
   ]
  },
  {
   "cell_type": "markdown",
   "metadata": {},
   "source": [
    "To account for the fact that some of these moments might correlate over different Monte Carlo Simulations, the MSM seeks to obtain a variance covariance matrix of the moments. Since there is only one empirical reality, I use a bootstrap procedure to create a covariance matrix of empirical moments. For this, I use a block bootstrap procedure."
   ]
  },
  {
   "cell_type": "code",
   "execution_count": 7,
   "metadata": {},
   "outputs": [],
   "source": [
    "BLOCK_SIZE = 25\n",
    "BOOTSTRAPS = 100"
   ]
  },
  {
   "cell_type": "code",
   "execution_count": 10,
   "metadata": {},
   "outputs": [],
   "source": [
    "p_data_blocks = []\n",
    "for x in range(0, len(p_returns[:-3]), BLOCK_SIZE):\n",
    "    p_data_blocks.append(p_returns[x:x + BLOCK_SIZE])"
   ]
  },
  {
   "cell_type": "code",
   "execution_count": 11,
   "metadata": {},
   "outputs": [],
   "source": [
    "bootstrapped_p_returns = []\n",
    "for i in range(BOOTSTRAPS):\n",
    "    sim_data_p = [random.choice(p_data_blocks) for _ in p_data_blocks]\n",
    "    sim_data2_p = [j for i in sim_data_p for j in i]\n",
    "    bootstrapped_p_returns.append(sim_data2_p)"
   ]
  },
  {
   "cell_type": "code",
   "execution_count": 12,
   "metadata": {},
   "outputs": [],
   "source": [
    "rets_mean = []\n",
    "rets_std = []\n",
    "rets_autocor = []\n",
    "\n",
    "for rets in bootstrapped_p_returns:\n",
    "    rets_mean.append(pd.Series(rets).mean())\n",
    "    #rets_std.append(pd.Series(rets).std())\n",
    "    rets_autocor.append(autocorrelation_returns(rets, 25))"
   ]
  },
  {
   "cell_type": "code",
   "execution_count": 13,
   "metadata": {},
   "outputs": [],
   "source": [
    "all_bootstrapped_moments = [rets_mean,\n",
    "                            #rets_std,\n",
    "                            rets_autocor\n",
    "                           ]"
   ]
  },
  {
   "cell_type": "code",
   "execution_count": 14,
   "metadata": {},
   "outputs": [],
   "source": [
    "av_moments = [np.nanmean(x) for x in all_bootstrapped_moments]\n",
    "moments_b = [get_specific_bootstraps_moments(all_bootstrapped_moments, n) for n in range(len(bootstrapped_p_returns))]"
   ]
  },
  {
   "cell_type": "markdown",
   "metadata": {},
   "source": [
    "Here, I follow [Franke & Westerhoff 2016](https://link.springer.com/article/10.1007/s11403-014-0140-6#Sec8) in that I use the inverse of the bootstrap estimate of the moment covariance matrix as my weights."
   ]
  },
  {
   "cell_type": "code",
   "execution_count": 15,
   "metadata": {},
   "outputs": [],
   "source": [
    "W_hat = 1.0 / len(bootstrapped_p_returns) * sum([np.dot(np.array([(mb - av_moments)]).transpose(), np.array([(mb - av_moments)])) for mb in moments_b])\n",
    "W = np.linalg.inv(W_hat)\n",
    "np.save('distr_weighting_matrix', W)"
   ]
  },
  {
   "cell_type": "markdown",
   "metadata": {},
   "source": [
    "I establish confidence intervals for the moments"
   ]
  },
  {
   "cell_type": "code",
   "execution_count": 16,
   "metadata": {},
   "outputs": [],
   "source": [
    "confidence_intervals = [confidence_interval(m, emp) for m, emp in zip(all_bootstrapped_moments, emp_moments)]"
   ]
  },
  {
   "cell_type": "code",
   "execution_count": 17,
   "metadata": {},
   "outputs": [],
   "source": [
    "j_values = []\n",
    "for b in moments_b:\n",
    "    j_values.append(quadratic_loss_function(b, emp_moments, W))"
   ]
  },
  {
   "cell_type": "code",
   "execution_count": 18,
   "metadata": {},
   "outputs": [],
   "source": [
    "scores = [0 for x in moments_b[0]]\n",
    "for bootstr in range(len(moments_b)):\n",
    "    for idx, moment in enumerate(moments_b[bootstr]):\n",
    "        if moment > confidence_intervals[idx][0] and moment < confidence_intervals[idx][1]:\n",
    "            scores[idx] += 1\n",
    "MCR_bootstrapped_moments = np.array(scores) / (np.ones(len(scores)) * len(moments_b))"
   ]
  },
  {
   "cell_type": "markdown",
   "metadata": {},
   "source": [
    "To start the estimation procedure, I first sample the parameter space using Latin Hypercube sampling"
   ]
  },
  {
   "cell_type": "code",
   "execution_count": 6,
   "metadata": {},
   "outputs": [],
   "source": [
    "population_size = 1"
   ]
  },
  {
   "cell_type": "code",
   "execution_count": 6,
   "metadata": {},
   "outputs": [],
   "source": [
    "problem = {\n",
    "  'num_vars': 1,\n",
    "  'names': ['std_noise'],#,\n",
    "            #'w_random'],\n",
    "  'bounds': [[0.05, 0.20]]#,\n",
    "             #[0.02, 0.20]]\n",
    "}"
   ]
  },
  {
   "cell_type": "code",
   "execution_count": 7,
   "metadata": {},
   "outputs": [
    {
     "ename": "NameError",
     "evalue": "name 'population_size' is not defined",
     "output_type": "error",
     "traceback": [
      "\u001b[1;31m---------------------------------------------------------------------------\u001b[0m",
      "\u001b[1;31mNameError\u001b[0m                                 Traceback (most recent call last)",
      "\u001b[1;32m<ipython-input-7-a55acdd364e6>\u001b[0m in \u001b[0;36m<module>\u001b[1;34m\u001b[0m\n\u001b[1;32m----> 1\u001b[1;33m \u001b[0mlatin_hyper_cube\u001b[0m \u001b[1;33m=\u001b[0m \u001b[0mlatin\u001b[0m\u001b[1;33m.\u001b[0m\u001b[0msample\u001b[0m\u001b[1;33m(\u001b[0m\u001b[0mproblem\u001b[0m\u001b[1;33m=\u001b[0m\u001b[0mproblem\u001b[0m\u001b[1;33m,\u001b[0m \u001b[0mN\u001b[0m\u001b[1;33m=\u001b[0m\u001b[0mpopulation_size\u001b[0m\u001b[1;33m)\u001b[0m\u001b[1;33m\u001b[0m\u001b[1;33m\u001b[0m\u001b[0m\n\u001b[0m\u001b[0;32m      2\u001b[0m \u001b[0mlatin_hyper_cube\u001b[0m \u001b[1;33m=\u001b[0m \u001b[0mlatin_hyper_cube\u001b[0m\u001b[1;33m.\u001b[0m\u001b[0mtolist\u001b[0m\u001b[1;33m(\u001b[0m\u001b[1;33m)\u001b[0m\u001b[1;33m\u001b[0m\u001b[1;33m\u001b[0m\u001b[0m\n\u001b[0;32m      3\u001b[0m \u001b[1;32mwith\u001b[0m \u001b[0mopen\u001b[0m\u001b[1;33m(\u001b[0m\u001b[1;34m'hypercube.txt'\u001b[0m\u001b[1;33m,\u001b[0m \u001b[1;34m'w'\u001b[0m\u001b[1;33m)\u001b[0m \u001b[1;32mas\u001b[0m \u001b[0mf\u001b[0m\u001b[1;33m:\u001b[0m\u001b[1;33m\u001b[0m\u001b[1;33m\u001b[0m\u001b[0m\n\u001b[0;32m      4\u001b[0m     \u001b[0mjson\u001b[0m\u001b[1;33m.\u001b[0m\u001b[0mdump\u001b[0m\u001b[1;33m(\u001b[0m\u001b[0mlatin_hyper_cube\u001b[0m\u001b[1;33m,\u001b[0m \u001b[0mf\u001b[0m\u001b[1;33m)\u001b[0m\u001b[1;33m\u001b[0m\u001b[1;33m\u001b[0m\u001b[0m\n\u001b[0;32m      5\u001b[0m \u001b[0minitial_params\u001b[0m \u001b[1;33m=\u001b[0m \u001b[0mlatin_hyper_cube\u001b[0m\u001b[1;33m[\u001b[0m\u001b[1;36m0\u001b[0m\u001b[1;33m]\u001b[0m\u001b[1;33m\u001b[0m\u001b[1;33m\u001b[0m\u001b[0m\n",
      "\u001b[1;31mNameError\u001b[0m: name 'population_size' is not defined"
     ]
    }
   ],
   "source": [
    "latin_hyper_cube = latin.sample(problem=problem, N=population_size)\n",
    "latin_hyper_cube = latin_hyper_cube.tolist()\n",
    "with open('hypercube.txt', 'w') as f:\n",
    "    json.dump(latin_hyper_cube, f)\n",
    "initial_params = latin_hyper_cube[0]\n",
    "initial_params"
   ]
  },
  {
   "cell_type": "markdown",
   "metadata": {},
   "source": [
    "I perform the estimation excercise in a different Python file using multi-processing. I download the resulting paramters below."
   ]
  },
  {
   "cell_type": "code",
   "execution_count": 8,
   "metadata": {},
   "outputs": [],
   "source": [
    "with open('estimated_params.json', 'r') as f:\n",
    "    est_params = json.loads(f.read())"
   ]
  },
  {
   "cell_type": "code",
   "execution_count": 9,
   "metadata": {},
   "outputs": [],
   "source": [
    "for i, name in enumerate(problem['names']):\n",
    "    params[name] = est_params[i]"
   ]
  },
  {
   "cell_type": "code",
   "execution_count": 10,
   "metadata": {},
   "outputs": [],
   "source": [
    "params['n_traders'] = 50"
   ]
  },
  {
   "cell_type": "code",
   "execution_count": 88,
   "metadata": {},
   "outputs": [],
   "source": [
    "# params['std_noise'] = 5.59\n",
    "# params['w_random'] = 0.19"
   ]
  },
  {
   "cell_type": "markdown",
   "metadata": {},
   "source": [
    "# Volatility inequality model"
   ]
  },
  {
   "cell_type": "code",
   "execution_count": 89,
   "metadata": {},
   "outputs": [],
   "source": [
    "#params['std_noise'] = 2.0"
   ]
  },
  {
   "cell_type": "code",
   "execution_count": 21,
   "metadata": {},
   "outputs": [],
   "source": [
    "NRUNS = 10"
   ]
  },
  {
   "cell_type": "code",
   "execution_count": 22,
   "metadata": {},
   "outputs": [
    {
     "name": "stdout",
     "output_type": "stream",
     "text": [
      "Start of simulation  0\n",
      "Simulation ends in tick  6166  with Gini  0.9003996382047944\n",
      "Start of simulation  1\n",
      "Simulation ends in tick  7177  with Gini  0.8946561468287796\n",
      "Start of simulation  2\n",
      "Simulation ends in tick  6263  with Gini  0.9007091775427745\n",
      "Start of simulation  3\n",
      "Simulation ends in tick  6471  with Gini  0.9006768881216038\n",
      "Start of simulation  4\n",
      "Simulation ends in tick  5259  with Gini  0.9006028128268544\n",
      "Start of simulation  5\n",
      "Simulation ends in tick  6786  with Gini  0.9010595566795698\n",
      "Start of simulation  6\n",
      "Simulation ends in tick  7701  with Gini  0.900102053341065\n",
      "Start of simulation  7\n",
      "Simulation ends in tick  5911  with Gini  0.9005214080800823\n",
      "Start of simulation  8\n",
      "Simulation ends in tick  7743  with Gini  0.9000004749171332\n",
      "Start of simulation  9\n",
      "Simulation ends in tick  5996  with Gini  0.9009242432044544\n"
     ]
    }
   ],
   "source": [
    "trdrs0 = []\n",
    "orbs0 = []\n",
    "gini_ends = []\n",
    "end_ticks = []\n",
    "for seed in range(NRUNS): \n",
    "    traders0, orderbook0 = init_objects_unequal(params, seed, equality=1.0)\n",
    "    traders0, orderbook0, gini_end, end_tick = volatility_inequality_model_equilibrium(traders0, orderbook0, params, seed, cancel_all_orders=True)\n",
    "    trdrs0.append(traders0)\n",
    "    orbs0.append(orderbook0)\n",
    "    gini_ends.append(gini_end)\n",
    "    end_ticks.append(end_tick)"
   ]
  },
  {
   "cell_type": "code",
   "execution_count": 23,
   "metadata": {},
   "outputs": [
    {
     "name": "stdout",
     "output_type": "stream",
     "text": [
      "6547.3\n",
      "(6049.614233720464, 7044.985766279537)\n"
     ]
    }
   ],
   "source": [
    "print(np.mean(end_ticks))\n",
    "print(confidence_interval(end_ticks, np.mean(end_ticks)))"
   ]
  },
  {
   "cell_type": "code",
   "execution_count": 24,
   "metadata": {},
   "outputs": [],
   "source": [
    "mc_prices, mc_returns, mc_autocorr_returns, mc_autocorr_abs_returns, mc_volatility, mc_volume, mc_fundamentals = organise_data(orbs0, burn_in_period=0)"
   ]
  },
  {
   "cell_type": "code",
   "execution_count": 25,
   "metadata": {},
   "outputs": [],
   "source": [
    "#mc_prices[0].pct_change().std()"
   ]
  },
  {
   "cell_type": "code",
   "execution_count": 26,
   "metadata": {},
   "outputs": [],
   "source": [
    "series_length = []\n",
    "for col in mc_prices:\n",
    "    try:\n",
    "        series_length.append(mc_prices[mc_prices[col].isna()].index[0])\n",
    "    except:\n",
    "        series_length.append(len(mc_prices))"
   ]
  },
  {
   "cell_type": "code",
   "execution_count": 27,
   "metadata": {},
   "outputs": [],
   "source": [
    "lower_c_price = []\n",
    "upper_c_price = []\n",
    "for row in range(min(series_length)-2):\n",
    "    price_range = mc_prices.iloc[row]# / mc_fundamentals.iloc[row]\n",
    "    lower, upper = confidence_interval(price_range, np.mean(price_range))\n",
    "    lower_c_price.append(max(lower, 0.0))\n",
    "    upper_c_price.append(upper)"
   ]
  },
  {
   "cell_type": "markdown",
   "metadata": {},
   "source": [
    "Identify individual wealth changes"
   ]
  },
  {
   "cell_type": "code",
   "execution_count": 28,
   "metadata": {},
   "outputs": [],
   "source": [
    "wealth_starts = []\n",
    "wealth_ends = []\n",
    "ginis_ot = []\n",
    "palmas_ot = []\n",
    "profits = []\n",
    "real_profits = []\n",
    "market_returns = []\n",
    "\n",
    "# determine the start and end wealth\n",
    "for seed, traders in enumerate(trdrs0):\n",
    "    money_start = np.array([x.var.money[0] for x in traders])\n",
    "    stocks_start = np.array([x.var.stocks[0] for x in traders])\n",
    "    wealth_start = money_start + (stocks_start * orbs0[seed].tick_close_price[0])\n",
    "\n",
    "    money_end = np.array([x.var.money[-1] for x in traders])\n",
    "    stocks_end = np.array([x.var.stocks[-1] for x in traders])\n",
    "    wealth_end = money_end + (stocks_end * orbs0[seed].tick_close_price[-1])\n",
    "    \n",
    "    # profits\n",
    "    profits.append((np.array(wealth_end) - np.array(wealth_start)) / np.array(wealth_start))\n",
    "    real_profits.append(np.array(wealth_end) - np.array(wealth_start))\n",
    "    market_returns.append([(orbs0[seed].tick_close_price[-1] - orbs0[seed].tick_close_price[0]) / orbs0[seed].tick_close_price[0] for x in range(len(wealth_start))])\n",
    "\n",
    "    wealth_gini_over_time = []\n",
    "    palma_over_time = []\n",
    "    for t in range(min(series_length) - 1):\n",
    "        #print(t)\n",
    "        money = np.array([x.var.money[t] for x in traders])\n",
    "        stocks = np.array([x.var.stocks[t] for x in traders])\n",
    "        wealth = money + (stocks * orbs0[seed].tick_close_price[t])\n",
    "\n",
    "        share_top_10 = sum(np.sort(wealth)[int(len(wealth) * 0.9):]) / sum(wealth)\n",
    "        share_bottom_40 = sum(np.sort(wealth)[:int(len(wealth) * 0.4)]) / sum(wealth)\n",
    "        palma_over_time.append(share_top_10 / share_bottom_40)\n",
    "\n",
    "        wealth_gini_over_time.append(gini(wealth))\n",
    "\n",
    "    wealth_starts.append(list(wealth_start))\n",
    "    wealth_ends.append(list(wealth_end))\n",
    "    ginis_ot.append(wealth_gini_over_time)\n",
    "    palmas_ot.append(palma_over_time)"
   ]
  },
  {
   "cell_type": "code",
   "execution_count": 29,
   "metadata": {},
   "outputs": [],
   "source": [
    "av_gini_ot = []\n",
    "low_gini_ot = []\n",
    "up_gini_ot = []\n",
    "\n",
    "av_palma_ot = []\n",
    "low_palma_ot = []\n",
    "up_palma_ot = []\n",
    "\n",
    "for t in range(min(series_length)-1):\n",
    "    t_gini = [g[t] for g in ginis_ot]\n",
    "    av_gini_ot.append(np.mean(t_gini))\n",
    "    low, up = confidence_interval(t_gini, np.mean(t_gini))\n",
    "    low_gini_ot.append(low)\n",
    "    up_gini_ot.append(up)\n",
    "\n",
    "    t_palma = [p[t] for p in palmas_ot]\n",
    "    av_palma_ot.append(np.mean(t_palma))\n",
    "    low, up = confidence_interval(t_palma, np.mean(t_palma))\n",
    "    low_palma_ot.append(low)\n",
    "    up_palma_ot.append(up)"
   ]
  },
  {
   "cell_type": "markdown",
   "metadata": {},
   "source": [
    "# Does the noise trader model tend towards an unequal steady state?"
   ]
  },
  {
   "cell_type": "code",
   "execution_count": 31,
   "metadata": {},
   "outputs": [
    {
     "data": {
      "image/png": "[encoded data removed]",
      "text/plain": [
       "<Figure size 1296x504 with 4 Axes>"
      ]
     },
     "metadata": {},
     "output_type": "display_data"
    }
   ],
   "source": [
    "fig, ((ax1, ax2),(ax3, ax4)) = plt.subplots(2, 2, figsize=(18,7))\n",
    "\n",
    "#ax1.plot(mc_fundamentals.index, mc_fundamentals.mean(axis=1), label='Fundamental')\n",
    "#ax1.plot(mc_prices.index, (mc_prices.mean(axis=1) / mc_fundamentals.mean(axis=1))[:], label='Market')\n",
    "ax1.plot(mc_prices.iloc[:min(series_length)-1].index, mc_prices.iloc[:min(series_length)-1].mean(axis=1), 'k', label='Market')\n",
    "ax1.plot(mc_prices.iloc[:min(series_length)-1].index[:-1], lower_c_price, 'k--')\n",
    "ax1.plot(mc_prices.iloc[:min(series_length)-1].index[:-1], upper_c_price, 'k--')\n",
    "#ax1.legend(loc='best', fontsize='14')\n",
    "\n",
    "ax1.set_ylabel('Price', fontsize='14')\n",
    "\n",
    "ax2.bar(mc_volume.iloc[:min(series_length)-1].index, mc_volume.iloc[:min(series_length)-1].mean(axis=1), width=1.0, color='black')\n",
    "ax2.set_ylabel('Volume', fontsize='14')\n",
    "\n",
    "ax3.plot(range(len(av_gini_ot[:])), av_gini_ot[:], 'k')\n",
    "ax3.plot(range(len(low_gini_ot[:])), low_gini_ot[:], 'k--')\n",
    "ax3.plot(range(len(up_gini_ot[:])), up_gini_ot[:], 'k--')\n",
    "ax3.set_ylabel('Gini', fontsize='14')\n",
    "\n",
    "ax4.plot(range(len(av_gini_ot[:])), av_palma_ot[:], 'k')\n",
    "ax4.plot(range(len(low_gini_ot[:])), low_palma_ot[:], 'k--')\n",
    "ax4.plot(range(len(up_gini_ot[:])), up_palma_ot[:], 'k--')\n",
    "ax4.set_ylabel('Palma', fontsize='14')\n",
    "\n",
    "\n",
    "for ax in (ax3, ax4):\n",
    "    ax.set_xlabel('Simulation time', fontsize='14')\n",
    "    \n",
    "#ax3.set_xlabel('Agents', fontsize='14')\n",
    "\n",
    "fig.savefig('baseline_dynamics.png', dpi=200, bbox_inches = 'tight', pad_inches = 0)"
   ]
  },
  {
   "cell_type": "markdown",
   "metadata": {},
   "source": [
    "# Do individual traders see their wealth diminish below a lower bound"
   ]
  },
  {
   "cell_type": "code",
   "execution_count": 32,
   "metadata": {},
   "outputs": [],
   "source": [
    "# lower_bound = price\n",
    "perc_traders_lower_bound_ot = []\n",
    "for seed, traders in enumerate(trdrs0):\n",
    "    perc_traders_lower_bound = []\n",
    "    for t in range(min(series_length) - 1):\n",
    "        #print(t)\n",
    "        money = np.array([x.var.money[t] for x in traders])\n",
    "        stocks = np.array([x.var.stocks[t] for x in traders])\n",
    "        wealth = money + (stocks * orbs0[seed].tick_close_price[t])\n",
    "\n",
    "        sorted_wealth = np.sort(wealth)\n",
    "        cumsum_wealth = pd.Series(np.cumsum(sorted_wealth) / sum(wealth))\n",
    "        perc_traders_bottom20 = cumsum_wealth[cumsum_wealth > 0.1].index[0] / float(len(wealth))\n",
    "        perc_traders_lower_bound.append(perc_traders_bottom20)\n",
    "    \n",
    "    perc_traders_lower_bound_ot.append(perc_traders_lower_bound)"
   ]
  },
  {
   "cell_type": "code",
   "execution_count": 33,
   "metadata": {},
   "outputs": [],
   "source": [
    "av_perc_tr_lb = []\n",
    "low_perc_tr_lb = []\n",
    "high_perc_tr_lb = []\n",
    "\n",
    "for t in range(min(series_length)-1):\n",
    "    t_ptlb = [g[t] for g in perc_traders_lower_bound_ot]\n",
    "    av_perc_tr_lb.append(np.mean(t_ptlb))\n",
    "    low, up = confidence_interval(t_ptlb, np.mean(t_ptlb))\n",
    "    low_perc_tr_lb.append(low)\n",
    "    high_perc_tr_lb.append(up)"
   ]
  },
  {
   "cell_type": "code",
   "execution_count": 38,
   "metadata": {},
   "outputs": [
    {
     "data": {
      "image/png": "[encoded data removed]",
      "text/plain": [
       "<Figure size 720x288 with 1 Axes>"
      ]
     },
     "metadata": {},
     "output_type": "display_data"
    }
   ],
   "source": [
    "# what I want to measure: people are getting too poor to trade \n",
    "fig, ax = plt.subplots(1, 1, figsize=(10,4))\n",
    "\n",
    "ax.plot(range(len(av_perc_tr_lb[:])), av_perc_tr_lb[:], 'k')\n",
    "ax.plot(range(len(low_perc_tr_lb[:])), low_perc_tr_lb[:], 'k--')\n",
    "ax.plot(range(len(high_perc_tr_lb[:])), high_perc_tr_lb[:], 'k--')\n",
    "ax.set_ylabel('% traders in bottom 10% of wealth', fontsize='14')\n",
    "\n",
    "\n",
    "\n",
    "ax.set_xlabel('Simulation time', fontsize='14')\n",
    "    \n",
    "#ax3.set_xlabel('Agents', fontsize='14')\n",
    "\n",
    "fig.savefig('rise_of_poverty.png', dpi=200, bbox_inches = 'tight', pad_inches = 0)"
   ]
  },
  {
   "cell_type": "markdown",
   "metadata": {},
   "source": [
    "# Experiment "
   ]
  },
  {
   "cell_type": "code",
   "execution_count": 11,
   "metadata": {},
   "outputs": [],
   "source": [
    "stdev_fun = [x / 100.0 for x in range(0, 100, 5)]\n",
    "stdev_fun = stdev_fun[1:11]"
   ]
  },
  {
   "cell_type": "code",
   "execution_count": null,
   "metadata": {},
   "outputs": [],
   "source": []
  },
  {
   "cell_type": "code",
   "execution_count": 12,
   "metadata": {},
   "outputs": [],
   "source": [
    "#params['ticks'] = 600"
   ]
  },
  {
   "cell_type": "code",
   "execution_count": 13,
   "metadata": {},
   "outputs": [],
   "source": [
    "NRUNS = 5"
   ]
  },
  {
   "cell_type": "code",
   "execution_count": 14,
   "metadata": {},
   "outputs": [],
   "source": [
    "#stdev_fun[0] = 0.0001"
   ]
  },
  {
   "cell_type": "code",
   "execution_count": 15,
   "metadata": {},
   "outputs": [
    {
     "data": {
      "text/plain": [
       "[0.05, 0.1, 0.15, 0.2, 0.25, 0.3, 0.35, 0.4, 0.45, 0.5]"
      ]
     },
     "execution_count": 15,
     "metadata": {},
     "output_type": "execute_result"
    }
   ],
   "source": [
    "stdev_fun"
   ]
  },
  {
   "cell_type": "code",
   "execution_count": 16,
   "metadata": {},
   "outputs": [],
   "source": [
    "experiments = len(stdev_fun)"
   ]
  },
  {
   "cell_type": "code",
   "execution_count": 17,
   "metadata": {},
   "outputs": [
    {
     "name": "stderr",
     "output_type": "stream",
     "text": [
      "C:\\Users\\joerischasfoort\\Documents\\GitHub\\asset_volatility_wealth_inequality\\functions\\helpers.py:31: RuntimeWarning: invalid value encountered in true_divide\n",
      "  answer = np.true_divide(numerator, denominator)\n"
     ]
    },
    {
     "name": "stdout",
     "output_type": "stream",
     "text": [
      "Start of simulation  0\n",
      "Simulation ends in tick  9153  with Gini  0.900838821982659\n",
      "Start of simulation  1\n",
      "Simulation ends in tick  8882  with Gini  0.9000132987552423\n",
      "Start of simulation  2\n",
      "Simulation ends in tick  8529  with Gini  0.900162230410708\n",
      "Start of simulation  3\n",
      "Simulation ends in tick  8130  with Gini  0.9000485572506283\n",
      "Start of simulation  4\n",
      "Simulation ends in tick  8377  with Gini  0.9007379759511916\n",
      "Start of simulation  0\n",
      "Simulation ends in tick  3719  with Gini  0.90043807833337\n",
      "Start of simulation  1\n",
      "Simulation ends in tick  4849  with Gini  0.9000857382892434\n",
      "Start of simulation  2\n",
      "Simulation ends in tick  5056  with Gini  0.9005849663366357\n",
      "Start of simulation  3\n",
      "Simulation ends in tick  4141  with Gini  0.9000630552745931\n",
      "Start of simulation  4\n",
      "Simulation ends in tick  4948  with Gini  0.9002379773214907\n",
      "Start of simulation  0\n",
      "Simulation ends in tick  3469  with Gini  0.9004569420442519\n",
      "Start of simulation  1\n",
      "Simulation ends in tick  3139  with Gini  0.901393139443747\n",
      "Start of simulation  2\n",
      "Simulation ends in tick  3486  with Gini  0.9004407029554652\n",
      "Start of simulation  3\n",
      "Simulation ends in tick  2947  with Gini  0.9019135077074645\n",
      "Start of simulation  4\n",
      "Simulation ends in tick  3549  with Gini  0.8899984307472972\n",
      "Start of simulation  0\n",
      "Simulation ends in tick  2782  with Gini  0.901796692434342\n",
      "Start of simulation  1\n",
      "Simulation ends in tick  2831  with Gini  0.9010777878647237\n",
      "Start of simulation  2\n",
      "Simulation ends in tick  3133  with Gini  0.9032664659424813\n",
      "Start of simulation  3\n",
      "Simulation ends in tick  2808  with Gini  0.9029846262084706\n",
      "Start of simulation  4\n",
      "Simulation ends in tick  2629  with Gini  0.9014944059872695\n",
      "Start of simulation  0\n",
      "Simulation ends in tick  1677  with Gini  0.9003139615700536\n",
      "Start of simulation  1\n",
      "Simulation ends in tick  2668  with Gini  0.8953207689827734\n",
      "Start of simulation  2\n",
      "Simulation ends in tick  1981  with Gini  0.9007552228443826\n",
      "Start of simulation  3\n",
      "Simulation ends in tick  1885  with Gini  0.8765158620043924\n",
      "Start of simulation  4\n",
      "Simulation ends in tick  2560  with Gini  0.8825384915032863\n",
      "Start of simulation  0\n",
      "Simulation ends in tick  1602  with Gini  0.9011681624966285\n",
      "Start of simulation  1\n",
      "Simulation ends in tick  2709  with Gini  0.8906670449172496\n",
      "Start of simulation  2\n",
      "Simulation ends in tick  1992  with Gini  0.8614286980956181\n",
      "Start of simulation  3\n",
      "Simulation ends in tick  1567  with Gini  0.8023390701049196\n",
      "Start of simulation  4\n",
      "Simulation ends in tick  2585  with Gini  0.9007689716400821\n",
      "Start of simulation  0\n",
      "Simulation ends in tick  2750  with Gini  0.8721306167823617\n",
      "Start of simulation  1\n",
      "Simulation ends in tick  2552  with Gini  0.9026861243021357\n",
      "Start of simulation  2\n",
      "Simulation ends in tick  1599  with Gini  0.9015341547844362\n",
      "Start of simulation  3\n",
      "Simulation ends in tick  2030  with Gini  0.8668193223968484\n",
      "Start of simulation  4\n",
      "Simulation ends in tick  2237  with Gini  0.8967275169570613\n",
      "Start of simulation  0\n",
      "Simulation ends in tick  1632  with Gini  0.8701587629045147\n",
      "Start of simulation  1\n",
      "Simulation ends in tick  1376  with Gini  0.8540931718210035\n",
      "Start of simulation  2\n",
      "Simulation ends in tick  1862  with Gini  0.883032353588659\n",
      "Start of simulation  3\n",
      "Simulation ends in tick  1241  with Gini  0.8371766233976436\n",
      "Start of simulation  4\n",
      "Simulation ends in tick  1852  with Gini  0.8840602090188664\n",
      "Start of simulation  0\n",
      "Simulation ends in tick  1443  with Gini  0.840373004109477\n",
      "Start of simulation  1\n",
      "Simulation ends in tick  930  with Gini  0.8755419486083632\n",
      "Start of simulation  2\n",
      "Simulation ends in tick  1991  with Gini  0.9010461305441546\n",
      "Start of simulation  3\n",
      "Simulation ends in tick  1407  with Gini  0.836451645927101\n",
      "Start of simulation  4\n",
      "Simulation ends in tick  1971  with Gini  0.8919993593657755\n",
      "Start of simulation  0\n",
      "Simulation ends in tick  1432  with Gini  0.8753151122682712\n",
      "Start of simulation  1\n",
      "Simulation ends in tick  933  with Gini  0.855446028903569\n",
      "Start of simulation  2\n",
      "Simulation ends in tick  1657  with Gini  0.874984595276295\n",
      "Start of simulation  3\n",
      "Simulation ends in tick  1269  with Gini  0.851624507658668\n",
      "Start of simulation  4\n",
      "Simulation ends in tick  1425  with Gini  0.8654627359100019\n"
     ]
    }
   ],
   "source": [
    "trdrs = []\n",
    "orbs = []\n",
    "gini_ends1 = []\n",
    "end_ticks1 = []\n",
    "\n",
    "for exp in range(experiments):\n",
    "    #params['std_fundamental'] = stdev_fun[exp]\n",
    "    params['std_noise'] = stdev_fun[exp]\n",
    "    for seed in range(NRUNS): \n",
    "        traders, orderbook = init_objects_distr(params, seed)\n",
    "        traders, orderbook, gini_end, end_tick = volatility_inequality_model_equilibrium(traders, orderbook, params, seed, cancel_all_orders=True)\n",
    "        trdrs.append(traders)\n",
    "        orbs.append(orderbook)\n",
    "        gini_ends1.append(gini_end)\n",
    "        end_ticks1.append(end_tick)"
   ]
  },
  {
   "cell_type": "code",
   "execution_count": 19,
   "metadata": {},
   "outputs": [
    {
     "name": "stdout",
     "output_type": "stream",
     "text": [
      "3027.44\n",
      "(2413.184150391212, 3641.695849608788)\n"
     ]
    }
   ],
   "source": [
    "print(np.mean(end_ticks1))\n",
    "print(confidence_interval(end_ticks1, np.mean(end_ticks1)))"
   ]
  },
  {
   "cell_type": "code",
   "execution_count": 20,
   "metadata": {},
   "outputs": [
    {
     "data": {
      "text/plain": [
       "50"
      ]
     },
     "execution_count": 20,
     "metadata": {},
     "output_type": "execute_result"
    }
   ],
   "source": [
    "experiments * NRUNS"
   ]
  },
  {
   "cell_type": "code",
   "execution_count": 21,
   "metadata": {},
   "outputs": [
    {
     "data": {
      "text/plain": [
       "50"
      ]
     },
     "execution_count": 21,
     "metadata": {},
     "output_type": "execute_result"
    }
   ],
   "source": [
    "len(end_ticks1)"
   ]
  },
  {
   "cell_type": "code",
   "execution_count": 22,
   "metadata": {},
   "outputs": [],
   "source": [
    "av_exp_ends = []\n",
    "lo_exp_ends = []\n",
    "hi_exp_ends = []\n",
    "\n",
    "for x in range(experiments):\n",
    "    y = x*NRUNS\n",
    "    ends = end_ticks1[y:y+NRUNS]\n",
    "    \n",
    "    av_exp_ends.append(np.mean(ends))\n",
    "    low, up = confidence_interval(ends, np.mean(ends))\n",
    "    lo_exp_ends.append(low)\n",
    "    hi_exp_ends.append(up)"
   ]
  },
  {
   "cell_type": "code",
   "execution_count": 25,
   "metadata": {},
   "outputs": [
    {
     "data": {
      "image/png": "[encoded data removed]",
      "text/plain": [
       "<Figure size 1152x360 with 1 Axes>"
      ]
     },
     "metadata": {},
     "output_type": "display_data"
    }
   ],
   "source": [
    "fig, ax = plt.subplots(1, 1, figsize=[16,5])\n",
    "\n",
    "ax.plot(stdev_fun, av_exp_ends, 'k')\n",
    "ax.plot(stdev_fun, lo_exp_ends, 'k--')\n",
    "ax.plot(stdev_fun, hi_exp_ends, 'k--')\n",
    "\n",
    "ax.set_ylabel('$T_{max}$', fontsize=14)\n",
    "ax.set_xlabel('Standard deviation noise $\\sigma^{\\epsilon}$', fontsize=14)\n",
    "\n",
    "fig.savefig('experiment_high_vol_quick_ineq.png', dpi=200, bbox_inches = 'tight', pad_inches = 0)"
   ]
  },
  {
   "cell_type": "code",
   "execution_count": 24,
   "metadata": {},
   "outputs": [
    {
     "data": {
      "text/plain": [
       "[8614.2,\n",
       " 4542.6,\n",
       " 3318.0,\n",
       " 2836.6,\n",
       " 2154.2,\n",
       " 2091.0,\n",
       " 2233.6,\n",
       " 1592.6,\n",
       " 1548.4,\n",
       " 1343.2]"
      ]
     },
     "execution_count": 24,
     "metadata": {},
     "output_type": "execute_result"
    }
   ],
   "source": [
    "av_exp_ends"
   ]
  },
  {
   "cell_type": "markdown",
   "metadata": {},
   "source": [
    "# Old stuff below"
   ]
  },
  {
   "cell_type": "code",
   "execution_count": 26,
   "metadata": {},
   "outputs": [],
   "source": [
    "full_stdev_fun = []\n",
    "for exp in range(experiments):\n",
    "    for seed in range(NRUNS):\n",
    "        full_stdev_fun.append(stdev_fun[exp])"
   ]
  },
  {
   "cell_type": "code",
   "execution_count": 27,
   "metadata": {},
   "outputs": [],
   "source": [
    "ginis = []\n",
    "palmas = []\n",
    "\n",
    "for idx, traders in enumerate(trdrs):\n",
    "    money = np.array([x.var.money[-1] for x in trdrs[idx]])\n",
    "    stocks = np.array([x.var.stocks[-1] for x in trdrs[idx]])\n",
    "    wealth = money + (stocks * orbs[idx].tick_close_price[-1])\n",
    "    \n",
    "    share_top_10 = sum(np.sort(wealth)[int(len(wealth) * 0.9):]) / sum(wealth)\n",
    "    share_bottom_40 = sum(np.sort(wealth)[:int(len(wealth) * 0.4)]) / sum(wealth)\n",
    "    palmas.append(share_top_10 / share_bottom_40)\n",
    "    \n",
    "    ginis.append(gini(wealth))"
   ]
  },
  {
   "cell_type": "code",
   "execution_count": 28,
   "metadata": {},
   "outputs": [],
   "source": [
    "# calc redistribution, profits ... abs \n",
    "profits = []\n",
    "\n",
    "# determine the start and end wealth of the bubble\n",
    "for seed, traders in enumerate(trdrs):\n",
    "    money_start = np.array([x.var.money[0] for x in traders])\n",
    "    stocks_start = np.array([x.var.stocks[0] for x in traders])\n",
    "    wealth_start = money_start + (stocks_start * orbs[seed].tick_close_price[0])\n",
    "\n",
    "    money_end = np.array([x.var.money[-1] for x in traders])\n",
    "    stocks_end = np.array([x.var.stocks[-1] for x in traders])\n",
    "    wealth_end = money_end + (stocks_end * orbs[seed].tick_close_price[-1])\n",
    "    \n",
    "    # profits\n",
    "    profits.append((np.array(wealth_end) - np.array(wealth_start)) / np.array(wealth_start))"
   ]
  },
  {
   "cell_type": "code",
   "execution_count": 29,
   "metadata": {},
   "outputs": [],
   "source": [
    "# split the data in parts of 10 \n",
    "gini_averages = []\n",
    "gini_conf_interval_uppers = []\n",
    "gini_conf_intervals_lowers = []\n",
    "\n",
    "palma_averages = []\n",
    "palma_conf_interval_uppers = []\n",
    "palma_conf_intervals_lowers = []\n",
    "\n",
    "for x in range(experiments):\n",
    "    y = x*NRUNS\n",
    "    g = ginis[y:y+NRUNS]\n",
    "    \n",
    "    gini_averages.append(np.mean(g))\n",
    "    sample_stdev = np.std(g)\n",
    "    sigma = sample_stdev/math.sqrt(len(g))\n",
    "    lower, upper = stats.t.interval(alpha = 0.95, df= 24, loc = np.mean(g), scale = sigma) \n",
    "    gini_conf_interval_uppers.append(min(upper, 1.0))\n",
    "    gini_conf_intervals_lowers.append(lower)\n",
    "    \n",
    "    p = palmas[y:y+NRUNS]\n",
    "    palma_averages.append(np.mean(p))\n",
    "    sample_stdev = np.std(p)\n",
    "    sigma = sample_stdev/math.sqrt(len(p))\n",
    "    lower, upper = stats.t.interval(alpha = 0.95, df= 24, loc = np.mean(p), scale = sigma) \n",
    "    palma_conf_interval_uppers.append(upper)\n",
    "    palma_conf_intervals_lowers.append(max(lower, 0))"
   ]
  },
  {
   "cell_type": "code",
   "execution_count": 30,
   "metadata": {},
   "outputs": [
    {
     "data": {
      "image/png": "[encoded data removed]",
      "text/plain": [
       "<Figure size 1152x360 with 2 Axes>"
      ]
     },
     "metadata": {},
     "output_type": "display_data"
    }
   ],
   "source": [
    "fig, (ax1, ax2) = plt.subplots(1, 2, figsize=[16,5])\n",
    "\n",
    "ax1.plot(stdev_fun, gini_averages, 'k')\n",
    "ax1.plot(stdev_fun, gini_conf_interval_uppers, 'k--')\n",
    "ax1.plot(stdev_fun, gini_conf_intervals_lowers, 'k--')\n",
    "\n",
    "ax2.plot(stdev_fun, palma_averages, 'k')\n",
    "ax2.plot(stdev_fun, palma_conf_interval_uppers, 'k--')\n",
    "ax2.plot(stdev_fun, palma_conf_intervals_lowers, 'k--')\n",
    "\n",
    "ax1.set_ylabel('Gini', fontsize=14)\n",
    "ax2.set_ylabel('Palma', fontsize=14)\n",
    "\n",
    "for ax in [ax1, ax2]:\n",
    "    ax.set_xlabel('standard deviation noise $\\sigma^{\\epsilon}$', fontsize=14)\n",
    "\n",
    "fig.savefig('stdev_f_inequality.png', dpi=200, bbox_inches = 'tight', pad_inches = 0)"
   ]
  },
  {
   "cell_type": "markdown",
   "metadata": {},
   "source": [
    "# Robustness check what if money is reset at the end of every simulation.\n",
    "\n",
    "Then the effect disappears."
   ]
  },
  {
   "cell_type": "code",
   "execution_count": 31,
   "metadata": {},
   "outputs": [
    {
     "name": "stdout",
     "output_type": "stream",
     "text": [
      "Start of simulation  0\n"
     ]
    },
    {
     "ename": "KeyboardInterrupt",
     "evalue": "",
     "output_type": "error",
     "traceback": [
      "\u001b[1;31m---------------------------------------------------------------------------\u001b[0m",
      "\u001b[1;31mKeyboardInterrupt\u001b[0m                         Traceback (most recent call last)",
      "\u001b[1;32m<ipython-input-31-fc1eed7198e4>\u001b[0m in \u001b[0;36m<module>\u001b[1;34m\u001b[0m\n\u001b[0;32m      3\u001b[0m \u001b[1;32mfor\u001b[0m \u001b[0mseed\u001b[0m \u001b[1;32min\u001b[0m \u001b[0mrange\u001b[0m\u001b[1;33m(\u001b[0m\u001b[0mNRUNS\u001b[0m\u001b[1;33m)\u001b[0m\u001b[1;33m:\u001b[0m\u001b[1;33m\u001b[0m\u001b[1;33m\u001b[0m\u001b[0m\n\u001b[0;32m      4\u001b[0m     \u001b[0mtraders_hypo\u001b[0m\u001b[1;33m,\u001b[0m \u001b[0morderbook_hypo\u001b[0m \u001b[1;33m=\u001b[0m \u001b[0minit_objects_distr\u001b[0m\u001b[1;33m(\u001b[0m\u001b[0mparams\u001b[0m\u001b[1;33m,\u001b[0m \u001b[0mseed\u001b[0m\u001b[1;33m)\u001b[0m\u001b[1;33m\u001b[0m\u001b[1;33m\u001b[0m\u001b[0m\n\u001b[1;32m----> 5\u001b[1;33m     \u001b[0mtraders_hypo\u001b[0m\u001b[1;33m,\u001b[0m \u001b[0morderbook_hypo\u001b[0m \u001b[1;33m=\u001b[0m \u001b[0mvolatility_inequality_model_reset_wealth\u001b[0m\u001b[1;33m(\u001b[0m\u001b[0mtraders_hypo\u001b[0m\u001b[1;33m,\u001b[0m \u001b[0morderbook_hypo\u001b[0m\u001b[1;33m,\u001b[0m \u001b[0mparams\u001b[0m\u001b[1;33m,\u001b[0m \u001b[0mseed\u001b[0m\u001b[1;33m)\u001b[0m\u001b[1;33m\u001b[0m\u001b[1;33m\u001b[0m\u001b[0m\n\u001b[0m\u001b[0;32m      6\u001b[0m     \u001b[0mtrdrs_hypo\u001b[0m\u001b[1;33m.\u001b[0m\u001b[0mappend\u001b[0m\u001b[1;33m(\u001b[0m\u001b[0mtraders_hypo\u001b[0m\u001b[1;33m)\u001b[0m\u001b[1;33m\u001b[0m\u001b[1;33m\u001b[0m\u001b[0m\n\u001b[0;32m      7\u001b[0m     \u001b[0morbs_hypo\u001b[0m\u001b[1;33m.\u001b[0m\u001b[0mappend\u001b[0m\u001b[1;33m(\u001b[0m\u001b[0morderbook_hypo\u001b[0m\u001b[1;33m)\u001b[0m\u001b[1;33m\u001b[0m\u001b[1;33m\u001b[0m\u001b[0m\n",
      "\u001b[1;32m~\\Documents\\GitHub\\asset_volatility_wealth_inequality\\model.py\u001b[0m in \u001b[0;36mvolatility_inequality_model_reset_wealth\u001b[1;34m(traders, orderbook, parameters, seed)\u001b[0m\n\u001b[0;32m    261\u001b[0m                 \u001b[0mfcast_price\u001b[0m \u001b[1;33m=\u001b[0m \u001b[0mmid_price\u001b[0m \u001b[1;33m*\u001b[0m \u001b[0mnp\u001b[0m\u001b[1;33m.\u001b[0m\u001b[0mexp\u001b[0m\u001b[1;33m(\u001b[0m\u001b[0mtrader\u001b[0m\u001b[1;33m.\u001b[0m\u001b[0mexp\u001b[0m\u001b[1;33m.\u001b[0m\u001b[0mreturns\u001b[0m\u001b[1;33m[\u001b[0m\u001b[1;34m'stocks'\u001b[0m\u001b[1;33m]\u001b[0m\u001b[1;33m)\u001b[0m\u001b[1;33m\u001b[0m\u001b[1;33m\u001b[0m\u001b[0m\n\u001b[0;32m    262\u001b[0m                 trader.var.covariance_matrix = calculate_covariance_matrix(orderbook.returns[-trader.par.horizon:],\n\u001b[1;32m--> 263\u001b[1;33m                                                                            parameters[\"std_fundamental\"])\n\u001b[0m\u001b[0;32m    264\u001b[0m \u001b[1;33m\u001b[0m\u001b[0m\n\u001b[0;32m    265\u001b[0m                 \u001b[1;31m# employ portfolio optimization algo\u001b[0m\u001b[1;33m\u001b[0m\u001b[1;33m\u001b[0m\u001b[1;33m\u001b[0m\u001b[0m\n",
      "\u001b[1;32m~\\Documents\\GitHub\\asset_volatility_wealth_inequality\\functions\\helpers.py\u001b[0m in \u001b[0;36mcalculate_covariance_matrix\u001b[1;34m(historical_stock_returns, base_historical_variance)\u001b[0m\n\u001b[0;32m     18\u001b[0m         \u001b[1;31m# If the price is stationary, revert to base historical variance\u001b[0m\u001b[1;33m\u001b[0m\u001b[1;33m\u001b[0m\u001b[1;33m\u001b[0m\u001b[0m\n\u001b[0;32m     19\u001b[0m         \u001b[0mcovariances\u001b[0m\u001b[1;33m[\u001b[0m\u001b[1;36m0\u001b[0m\u001b[1;33m]\u001b[0m\u001b[1;33m[\u001b[0m\u001b[1;36m0\u001b[0m\u001b[1;33m]\u001b[0m \u001b[1;33m=\u001b[0m \u001b[0mbase_historical_variance\u001b[0m\u001b[1;33m\u001b[0m\u001b[1;33m\u001b[0m\u001b[0m\n\u001b[1;32m---> 20\u001b[1;33m     \u001b[1;32mreturn\u001b[0m \u001b[0mpd\u001b[0m\u001b[1;33m.\u001b[0m\u001b[0mDataFrame\u001b[0m\u001b[1;33m(\u001b[0m\u001b[0mcovariances\u001b[0m\u001b[1;33m,\u001b[0m \u001b[0mindex\u001b[0m\u001b[1;33m=\u001b[0m\u001b[0massets\u001b[0m\u001b[1;33m,\u001b[0m \u001b[0mcolumns\u001b[0m\u001b[1;33m=\u001b[0m\u001b[0massets\u001b[0m\u001b[1;33m)\u001b[0m\u001b[1;33m\u001b[0m\u001b[1;33m\u001b[0m\u001b[0m\n\u001b[0m\u001b[0;32m     21\u001b[0m \u001b[1;33m\u001b[0m\u001b[0m\n\u001b[0;32m     22\u001b[0m \u001b[1;33m\u001b[0m\u001b[0m\n",
      "\u001b[1;32mc:\\users\\joerischasfoort\\appdata\\local\\programs\\python\\python36\\lib\\site-packages\\pandas\\core\\frame.py\u001b[0m in \u001b[0;36m__init__\u001b[1;34m(self, data, index, columns, dtype, copy)\u001b[0m\n\u001b[0;32m    422\u001b[0m             \u001b[1;32melse\u001b[0m\u001b[1;33m:\u001b[0m\u001b[1;33m\u001b[0m\u001b[1;33m\u001b[0m\u001b[0m\n\u001b[0;32m    423\u001b[0m                 mgr = init_ndarray(data, index, columns, dtype=dtype,\n\u001b[1;32m--> 424\u001b[1;33m                                    copy=copy)\n\u001b[0m\u001b[0;32m    425\u001b[0m \u001b[1;33m\u001b[0m\u001b[0m\n\u001b[0;32m    426\u001b[0m         \u001b[1;31m# For data is list-like, or Iterable (will consume into list)\u001b[0m\u001b[1;33m\u001b[0m\u001b[1;33m\u001b[0m\u001b[1;33m\u001b[0m\u001b[0m\n",
      "\u001b[1;32mc:\\users\\joerischasfoort\\appdata\\local\\programs\\python\\python36\\lib\\site-packages\\pandas\\core\\internals\\construction.py\u001b[0m in \u001b[0;36minit_ndarray\u001b[1;34m(values, index, columns, dtype, copy)\u001b[0m\n\u001b[0;32m    156\u001b[0m                 \u001b[0mraise_with_traceback\u001b[0m\u001b[1;33m(\u001b[0m\u001b[0me\u001b[0m\u001b[1;33m)\u001b[0m\u001b[1;33m\u001b[0m\u001b[1;33m\u001b[0m\u001b[0m\n\u001b[0;32m    157\u001b[0m \u001b[1;33m\u001b[0m\u001b[0m\n\u001b[1;32m--> 158\u001b[1;33m     \u001b[0mindex\u001b[0m\u001b[1;33m,\u001b[0m \u001b[0mcolumns\u001b[0m \u001b[1;33m=\u001b[0m \u001b[0m_get_axes\u001b[0m\u001b[1;33m(\u001b[0m\u001b[1;33m*\u001b[0m\u001b[0mvalues\u001b[0m\u001b[1;33m.\u001b[0m\u001b[0mshape\u001b[0m\u001b[1;33m,\u001b[0m \u001b[0mindex\u001b[0m\u001b[1;33m=\u001b[0m\u001b[0mindex\u001b[0m\u001b[1;33m,\u001b[0m \u001b[0mcolumns\u001b[0m\u001b[1;33m=\u001b[0m\u001b[0mcolumns\u001b[0m\u001b[1;33m)\u001b[0m\u001b[1;33m\u001b[0m\u001b[1;33m\u001b[0m\u001b[0m\n\u001b[0m\u001b[0;32m    159\u001b[0m     \u001b[0mvalues\u001b[0m \u001b[1;33m=\u001b[0m \u001b[0mvalues\u001b[0m\u001b[1;33m.\u001b[0m\u001b[0mT\u001b[0m\u001b[1;33m\u001b[0m\u001b[1;33m\u001b[0m\u001b[0m\n\u001b[0;32m    160\u001b[0m \u001b[1;33m\u001b[0m\u001b[0m\n",
      "\u001b[1;32mc:\\users\\joerischasfoort\\appdata\\local\\programs\\python\\python36\\lib\\site-packages\\pandas\\core\\internals\\construction.py\u001b[0m in \u001b[0;36m_get_axes\u001b[1;34m(N, K, index, columns)\u001b[0m\n\u001b[0;32m    368\u001b[0m         \u001b[0mindex\u001b[0m \u001b[1;33m=\u001b[0m \u001b[0mibase\u001b[0m\u001b[1;33m.\u001b[0m\u001b[0mdefault_index\u001b[0m\u001b[1;33m(\u001b[0m\u001b[0mN\u001b[0m\u001b[1;33m)\u001b[0m\u001b[1;33m\u001b[0m\u001b[1;33m\u001b[0m\u001b[0m\n\u001b[0;32m    369\u001b[0m     \u001b[1;32melse\u001b[0m\u001b[1;33m:\u001b[0m\u001b[1;33m\u001b[0m\u001b[1;33m\u001b[0m\u001b[0m\n\u001b[1;32m--> 370\u001b[1;33m         \u001b[0mindex\u001b[0m \u001b[1;33m=\u001b[0m \u001b[0mensure_index\u001b[0m\u001b[1;33m(\u001b[0m\u001b[0mindex\u001b[0m\u001b[1;33m)\u001b[0m\u001b[1;33m\u001b[0m\u001b[1;33m\u001b[0m\u001b[0m\n\u001b[0m\u001b[0;32m    371\u001b[0m \u001b[1;33m\u001b[0m\u001b[0m\n\u001b[0;32m    372\u001b[0m     \u001b[1;32mif\u001b[0m \u001b[0mcolumns\u001b[0m \u001b[1;32mis\u001b[0m \u001b[1;32mNone\u001b[0m\u001b[1;33m:\u001b[0m\u001b[1;33m\u001b[0m\u001b[1;33m\u001b[0m\u001b[0m\n",
      "\u001b[1;32mc:\\users\\joerischasfoort\\appdata\\local\\programs\\python\\python36\\lib\\site-packages\\pandas\\core\\indexes\\base.py\u001b[0m in \u001b[0;36mensure_index\u001b[1;34m(index_like, copy)\u001b[0m\n\u001b[0;32m   5361\u001b[0m             \u001b[0mindex_like\u001b[0m \u001b[1;33m=\u001b[0m \u001b[0mlist\u001b[0m\u001b[1;33m(\u001b[0m\u001b[0mindex_like\u001b[0m\u001b[1;33m)\u001b[0m\u001b[1;33m\u001b[0m\u001b[1;33m\u001b[0m\u001b[0m\n\u001b[0;32m   5362\u001b[0m \u001b[1;33m\u001b[0m\u001b[0m\n\u001b[1;32m-> 5363\u001b[1;33m         \u001b[0mconverted\u001b[0m\u001b[1;33m,\u001b[0m \u001b[0mall_arrays\u001b[0m \u001b[1;33m=\u001b[0m \u001b[0mlib\u001b[0m\u001b[1;33m.\u001b[0m\u001b[0mclean_index_list\u001b[0m\u001b[1;33m(\u001b[0m\u001b[0mindex_like\u001b[0m\u001b[1;33m)\u001b[0m\u001b[1;33m\u001b[0m\u001b[1;33m\u001b[0m\u001b[0m\n\u001b[0m\u001b[0;32m   5364\u001b[0m \u001b[1;33m\u001b[0m\u001b[0m\n\u001b[0;32m   5365\u001b[0m         \u001b[1;32mif\u001b[0m \u001b[0mlen\u001b[0m\u001b[1;33m(\u001b[0m\u001b[0mconverted\u001b[0m\u001b[1;33m)\u001b[0m \u001b[1;33m>\u001b[0m \u001b[1;36m0\u001b[0m \u001b[1;32mand\u001b[0m \u001b[0mall_arrays\u001b[0m\u001b[1;33m:\u001b[0m\u001b[1;33m\u001b[0m\u001b[1;33m\u001b[0m\u001b[0m\n",
      "\u001b[1;32mpandas\\_libs\\lib.pyx\u001b[0m in \u001b[0;36mpandas._libs.lib.clean_index_list\u001b[1;34m()\u001b[0m\n",
      "\u001b[1;32mpandas\\_libs\\lib.pyx\u001b[0m in \u001b[0;36mpandas._libs.lib.infer_dtype\u001b[1;34m()\u001b[0m\n",
      "\u001b[1;32mc:\\users\\joerischasfoort\\appdata\\local\\programs\\python\\python36\\lib\\importlib\\_bootstrap.py\u001b[0m in \u001b[0;36m_find_and_load\u001b[1;34m(name, import_)\u001b[0m\n",
      "\u001b[1;32mc:\\users\\joerischasfoort\\appdata\\local\\programs\\python\\python36\\lib\\importlib\\_bootstrap.py\u001b[0m in \u001b[0;36m_find_and_load_unlocked\u001b[1;34m(name, import_)\u001b[0m\n",
      "\u001b[1;32mc:\\users\\joerischasfoort\\appdata\\local\\programs\\python\\python36\\lib\\importlib\\_bootstrap.py\u001b[0m in \u001b[0;36m_find_spec\u001b[1;34m(name, path, target)\u001b[0m\n",
      "\u001b[1;32mc:\\users\\joerischasfoort\\appdata\\local\\programs\\python\\python36\\lib\\importlib\\_bootstrap_external.py\u001b[0m in \u001b[0;36mfind_spec\u001b[1;34m(cls, fullname, path, target)\u001b[0m\n",
      "\u001b[1;32mc:\\users\\joerischasfoort\\appdata\\local\\programs\\python\\python36\\lib\\importlib\\_bootstrap_external.py\u001b[0m in \u001b[0;36m_get_spec\u001b[1;34m(cls, fullname, path, target)\u001b[0m\n",
      "\u001b[1;32mc:\\users\\joerischasfoort\\appdata\\local\\programs\\python\\python36\\lib\\importlib\\_bootstrap_external.py\u001b[0m in \u001b[0;36mfind_spec\u001b[1;34m(self, fullname, target)\u001b[0m\n",
      "\u001b[1;32mc:\\users\\joerischasfoort\\appdata\\local\\programs\\python\\python36\\lib\\importlib\\_bootstrap_external.py\u001b[0m in \u001b[0;36m_path_stat\u001b[1;34m(path)\u001b[0m\n",
      "\u001b[1;31mKeyboardInterrupt\u001b[0m: "
     ]
    }
   ],
   "source": [
    "trdrs_hypo = []\n",
    "orbs_hypo = []\n",
    "for seed in range(NRUNS): \n",
    "    traders_hypo, orderbook_hypo = init_objects_distr(params, seed)\n",
    "    traders_hypo, orderbook_hypo = volatility_inequality_model_reset_wealth(traders_hypo, orderbook_hypo, params, seed)\n",
    "    trdrs_hypo.append(traders_hypo)\n",
    "    orbs_hypo.append(orderbook_hypo)"
   ]
  },
  {
   "cell_type": "code",
   "execution_count": null,
   "metadata": {},
   "outputs": [],
   "source": [
    "for seed, traders in enumerate(trdrs_hypo):\n",
    "    hypo_money_end = np.array([x.var.hypothetical_money[-1] for x in traders])\n",
    "    hypo_stocks_end = np.array([x.var.hypothetical_stocks[-1] for x in traders])\n",
    "    hypo_wealth_end = hypo_money_end + (hypo_stocks_end * orbs_hypo[seed].tick_close_price[-1])"
   ]
  },
  {
   "cell_type": "code",
   "execution_count": null,
   "metadata": {},
   "outputs": [],
   "source": [
    "share_top_10 = sum(np.sort(hypo_wealth_end - min(hypo_wealth_end))[int(len(hypo_wealth_end - min(hypo_wealth_end)) * 0.9):]) / sum(hypo_wealth_end - min(hypo_wealth_end))\n",
    "share_bottom_40 = sum(np.sort(hypo_wealth_end - min(hypo_wealth_end))[:int(len(hypo_wealth_end - min(hypo_wealth_end)) * 0.4)]) / sum(hypo_wealth_end - min(hypo_wealth_end))\n",
    "share_top_10 / share_bottom_40"
   ]
  },
  {
   "cell_type": "code",
   "execution_count": 147,
   "metadata": {},
   "outputs": [
    {
     "data": {
      "text/plain": [
       "0.13408226618086494"
      ]
     },
     "execution_count": 147,
     "metadata": {},
     "output_type": "execute_result"
    }
   ],
   "source": [
    "gini(hypo_wealth_end - min(hypo_wealth_end))"
   ]
  },
  {
   "cell_type": "markdown",
   "metadata": {},
   "source": [
    "# Experiment "
   ]
  },
  {
   "cell_type": "code",
   "execution_count": 32,
   "metadata": {},
   "outputs": [],
   "source": [
    "stdev_fun = [x / 100.0 for x in range(0, 100, 10)]"
   ]
  },
  {
   "cell_type": "code",
   "execution_count": 33,
   "metadata": {},
   "outputs": [],
   "source": [
    "NRUNS = 25"
   ]
  },
  {
   "cell_type": "code",
   "execution_count": 34,
   "metadata": {},
   "outputs": [],
   "source": [
    "stdev_fun[0] = 0.0001"
   ]
  },
  {
   "cell_type": "code",
   "execution_count": 35,
   "metadata": {},
   "outputs": [
    {
     "data": {
      "text/plain": [
       "[0.0001, 0.1, 0.2, 0.3, 0.4, 0.5, 0.6, 0.7, 0.8, 0.9]"
      ]
     },
     "execution_count": 35,
     "metadata": {},
     "output_type": "execute_result"
    }
   ],
   "source": [
    "stdev_fun"
   ]
  },
  {
   "cell_type": "code",
   "execution_count": 36,
   "metadata": {},
   "outputs": [],
   "source": [
    "experiments = len(stdev_fun)"
   ]
  },
  {
   "cell_type": "code",
   "execution_count": 37,
   "metadata": {},
   "outputs": [],
   "source": [
    "#params['ticks'] = 1200"
   ]
  },
  {
   "cell_type": "code",
   "execution_count": 38,
   "metadata": {},
   "outputs": [
    {
     "name": "stdout",
     "output_type": "stream",
     "text": [
      "Start of simulation  0\n",
      "Start of simulation  1\n",
      "Start of simulation  2\n",
      "Start of simulation  3\n",
      "Start of simulation  4\n",
      "Start of simulation  5\n",
      "Start of simulation  6\n",
      "Start of simulation  7\n",
      "Start of simulation  8\n",
      "Start of simulation  9\n",
      "Start of simulation  10\n",
      "Start of simulation  11\n",
      "Start of simulation  12\n",
      "Start of simulation  13\n",
      "Start of simulation  14\n",
      "Start of simulation  15\n",
      "Start of simulation  16\n",
      "Start of simulation  17\n",
      "Start of simulation  18\n",
      "Start of simulation  19\n",
      "Start of simulation  20\n",
      "Start of simulation  21\n",
      "Start of simulation  22\n",
      "Start of simulation  23\n",
      "Start of simulation  24\n",
      "Start of simulation  0\n",
      "Start of simulation  1\n",
      "Start of simulation  2\n",
      "Start of simulation  3\n",
      "Start of simulation  4\n",
      "Start of simulation  5\n",
      "Start of simulation  6\n",
      "Start of simulation  7\n",
      "Start of simulation  8\n",
      "Start of simulation  9\n",
      "Start of simulation  10\n",
      "Start of simulation  11\n",
      "Start of simulation  12\n",
      "Start of simulation  13\n",
      "Start of simulation  14\n",
      "Start of simulation  15\n",
      "Start of simulation  16\n",
      "Start of simulation  17\n",
      "Start of simulation  18\n",
      "Start of simulation  19\n",
      "Start of simulation  20\n",
      "Start of simulation  21\n",
      "Start of simulation  22\n",
      "Start of simulation  23\n",
      "Start of simulation  24\n",
      "Start of simulation  0\n",
      "Start of simulation  1\n",
      "Start of simulation  2\n",
      "Start of simulation  3\n",
      "Start of simulation  4\n",
      "Start of simulation  5\n",
      "Start of simulation  6\n",
      "Start of simulation  7\n",
      "Start of simulation  8\n",
      "Start of simulation  9\n",
      "Start of simulation  10\n",
      "Start of simulation  11\n",
      "Start of simulation  12\n",
      "Start of simulation  13\n",
      "Start of simulation  14\n",
      "Start of simulation  15\n",
      "Start of simulation  16\n",
      "Start of simulation  17\n",
      "Start of simulation  18\n",
      "Start of simulation  19\n",
      "Start of simulation  20\n",
      "Start of simulation  21\n",
      "Start of simulation  22\n",
      "Start of simulation  23\n",
      "Start of simulation  24\n",
      "Start of simulation  0\n",
      "Start of simulation  1\n",
      "Start of simulation  2\n",
      "Start of simulation  3\n",
      "Start of simulation  4\n",
      "Start of simulation  5\n",
      "Start of simulation  6\n",
      "Start of simulation  7\n",
      "Start of simulation  8\n",
      "Start of simulation  9\n",
      "Start of simulation  10\n",
      "Start of simulation  11\n",
      "Start of simulation  12\n",
      "Start of simulation  13\n",
      "Start of simulation  14\n",
      "Start of simulation  15\n",
      "Start of simulation  16\n",
      "Start of simulation  17\n",
      "Start of simulation  18\n",
      "Start of simulation  19\n",
      "Start of simulation  20\n",
      "Start of simulation  21\n",
      "Start of simulation  22\n",
      "Start of simulation  23\n",
      "Start of simulation  24\n",
      "Start of simulation  0\n",
      "Start of simulation  1\n",
      "Start of simulation  2\n",
      "Start of simulation  3\n",
      "Start of simulation  4\n",
      "Start of simulation  5\n",
      "Start of simulation  6\n",
      "Start of simulation  7\n",
      "Start of simulation  8\n",
      "Start of simulation  9\n",
      "Start of simulation  10\n",
      "Start of simulation  11\n",
      "Start of simulation  12\n",
      "Start of simulation  13\n",
      "Start of simulation  14\n",
      "Start of simulation  15\n",
      "Start of simulation  16\n",
      "Start of simulation  17\n",
      "Start of simulation  18\n",
      "Start of simulation  19\n",
      "Start of simulation  20\n",
      "Start of simulation  21\n",
      "Start of simulation  22\n",
      "Start of simulation  23\n",
      "Start of simulation  24\n",
      "Start of simulation  0\n",
      "Start of simulation  1\n",
      "Start of simulation  2\n",
      "Start of simulation  3\n",
      "Start of simulation  4\n",
      "Start of simulation  5\n",
      "Start of simulation  6\n",
      "Start of simulation  7\n",
      "Start of simulation  8\n",
      "Start of simulation  9\n",
      "Start of simulation  10\n",
      "Start of simulation  11\n",
      "Start of simulation  12\n",
      "Start of simulation  13\n",
      "Start of simulation  14\n",
      "Start of simulation  15\n",
      "Start of simulation  16\n",
      "Start of simulation  17\n",
      "Start of simulation  18\n",
      "Start of simulation  19\n",
      "Start of simulation  20\n",
      "Start of simulation  21\n",
      "Start of simulation  22\n",
      "Start of simulation  23\n",
      "Start of simulation  24\n",
      "Start of simulation  0\n",
      "Start of simulation  1\n",
      "Start of simulation  2\n",
      "Start of simulation  3\n",
      "Start of simulation  4\n",
      "Start of simulation  5\n",
      "Start of simulation  6\n",
      "Start of simulation  7\n",
      "Start of simulation  8\n",
      "Start of simulation  9\n",
      "Start of simulation  10\n",
      "Start of simulation  11\n",
      "Start of simulation  12\n",
      "Start of simulation  13\n",
      "Start of simulation  14\n",
      "Start of simulation  15\n",
      "Start of simulation  16\n",
      "Start of simulation  17\n",
      "Start of simulation  18\n",
      "Start of simulation  19\n",
      "Start of simulation  20\n",
      "Start of simulation  21\n",
      "Start of simulation  22\n",
      "Start of simulation  23\n",
      "Start of simulation  24\n",
      "Start of simulation  0\n",
      "Start of simulation  1\n",
      "Start of simulation  2\n",
      "Start of simulation  3\n",
      "Start of simulation  4\n",
      "Start of simulation  5\n",
      "Start of simulation  6\n",
      "Start of simulation  7\n",
      "Start of simulation  8\n",
      "Start of simulation  9\n",
      "Start of simulation  10\n",
      "Start of simulation  11\n",
      "Start of simulation  12\n",
      "Start of simulation  13\n",
      "Start of simulation  14\n",
      "Start of simulation  15\n",
      "Start of simulation  16\n",
      "Start of simulation  17\n",
      "Start of simulation  18\n",
      "Start of simulation  19\n",
      "Start of simulation  20\n",
      "Start of simulation  21\n",
      "Start of simulation  22\n",
      "Start of simulation  23\n",
      "Start of simulation  24\n",
      "Start of simulation  0\n",
      "Start of simulation  1\n",
      "Start of simulation  2\n",
      "Start of simulation  3\n",
      "Start of simulation  4\n",
      "Start of simulation  5\n",
      "Start of simulation  6\n",
      "Start of simulation  7\n",
      "Start of simulation  8\n",
      "Start of simulation  9\n",
      "Start of simulation  10\n",
      "Start of simulation  11\n",
      "Start of simulation  12\n",
      "Start of simulation  13\n",
      "Start of simulation  14\n",
      "Start of simulation  15\n",
      "Start of simulation  16\n",
      "Start of simulation  17\n",
      "Start of simulation  18\n",
      "Start of simulation  19\n",
      "Start of simulation  20\n",
      "Start of simulation  21\n",
      "Start of simulation  22\n",
      "Start of simulation  23\n",
      "Start of simulation  24\n",
      "Start of simulation  0\n",
      "Start of simulation  1\n",
      "Start of simulation  2\n",
      "Start of simulation  3\n",
      "Start of simulation  4\n",
      "Start of simulation  5\n",
      "Start of simulation  6\n",
      "Start of simulation  7\n",
      "Start of simulation  8\n",
      "Start of simulation  9\n",
      "Start of simulation  10\n",
      "Start of simulation  11\n",
      "Start of simulation  12\n",
      "Start of simulation  13\n",
      "Start of simulation  14\n",
      "Start of simulation  15\n",
      "Start of simulation  16\n",
      "Start of simulation  17\n",
      "Start of simulation  18\n",
      "Start of simulation  19\n",
      "Start of simulation  20\n",
      "Start of simulation  21\n",
      "Start of simulation  22\n",
      "Start of simulation  23\n",
      "Start of simulation  24\n"
     ]
    }
   ],
   "source": [
    "trdrs = []\n",
    "orbs = []\n",
    "for exp in range(experiments):\n",
    "    #params['std_fundamental'] = stdev_fun[exp]\n",
    "    params['std_noise'] = stdev_fun[exp]\n",
    "    for seed in range(NRUNS): \n",
    "        traders, orderbook = init_objects_distr(params, seed)\n",
    "        traders, orderbook = volatility_inequality_model_reset_wealth(traders, orderbook, params, seed)\n",
    "        trdrs.append(traders)\n",
    "        orbs.append(orderbook)"
   ]
  },
  {
   "cell_type": "code",
   "execution_count": 39,
   "metadata": {},
   "outputs": [],
   "source": [
    "full_stdev_fun = []\n",
    "for exp in range(experiments):\n",
    "    for seed in range(NRUNS):\n",
    "        full_stdev_fun.append(stdev_fun[exp])"
   ]
  },
  {
   "cell_type": "code",
   "execution_count": 40,
   "metadata": {},
   "outputs": [],
   "source": [
    "ginis = []\n",
    "palmas = []\n",
    "\n",
    "for idx, traders in enumerate(trdrs):\n",
    "    money = np.array([x.var.hypothetical_money[-1] for x in trdrs[idx]])\n",
    "    stocks = np.array([x.var.hypothetical_stocks[-1] for x in trdrs[idx]])\n",
    "    wealth = money + (stocks * orbs[idx].tick_close_price[-1])\n",
    "    \n",
    "    hypo_wealth = wealth - min(wealth)\n",
    "    \n",
    "    share_top_10 = sum(np.sort(hypo_wealth)[int(len(hypo_wealth) * 0.9):]) / sum(hypo_wealth)\n",
    "    share_bottom_40 = sum(np.sort(hypo_wealth)[:int(len(hypo_wealth) * 0.4)]) / sum(hypo_wealth)\n",
    "    palmas.append(share_top_10 / share_bottom_40)\n",
    "    \n",
    "    ginis.append(gini(hypo_wealth))"
   ]
  },
  {
   "cell_type": "code",
   "execution_count": 41,
   "metadata": {},
   "outputs": [],
   "source": [
    "# split the data in parts of 10 \n",
    "gini_averages = []\n",
    "gini_conf_interval_uppers = []\n",
    "gini_conf_intervals_lowers = []\n",
    "\n",
    "palma_averages = []\n",
    "palma_conf_interval_uppers = []\n",
    "palma_conf_intervals_lowers = []\n",
    "\n",
    "for x in range(experiments):\n",
    "    y = x*NRUNS\n",
    "    g = ginis[y:y+NRUNS]\n",
    "    \n",
    "    gini_averages.append(np.mean(g))\n",
    "    sample_stdev = np.std(g)\n",
    "    sigma = sample_stdev/math.sqrt(len(g))\n",
    "    lower, upper = stats.t.interval(alpha = 0.95, df= 24, loc = np.mean(g), scale = sigma) \n",
    "    gini_conf_interval_uppers.append(min(upper, 1.0))\n",
    "    gini_conf_intervals_lowers.append(lower)\n",
    "    \n",
    "    p = palmas[y:y+NRUNS]\n",
    "    palma_averages.append(np.mean(p))\n",
    "    sample_stdev = np.std(p)\n",
    "    sigma = sample_stdev/math.sqrt(len(p))\n",
    "    lower, upper = stats.t.interval(alpha = 0.95, df= 24, loc = np.mean(p), scale = sigma) \n",
    "    palma_conf_interval_uppers.append(upper)\n",
    "    palma_conf_intervals_lowers.append(max(lower, 0))"
   ]
  },
  {
   "cell_type": "code",
   "execution_count": 42,
   "metadata": {},
   "outputs": [
    {
     "data": {
      "image/png": "[encoded data removed]",
      "text/plain": [
       "<Figure size 1152x360 with 2 Axes>"
      ]
     },
     "metadata": {},
     "output_type": "display_data"
    }
   ],
   "source": [
    "fig, (ax1, ax2) = plt.subplots(1, 2, figsize=[16,5])\n",
    "\n",
    "ax1.plot(stdev_fun, gini_averages, 'k')\n",
    "ax1.plot(stdev_fun, gini_conf_interval_uppers, 'k--')\n",
    "ax1.plot(stdev_fun, gini_conf_intervals_lowers, 'k--')\n",
    "\n",
    "ax2.plot(stdev_fun, palma_averages, 'k')\n",
    "ax2.plot(stdev_fun, palma_conf_interval_uppers, 'k--')\n",
    "ax2.plot(stdev_fun, palma_conf_intervals_lowers, 'k--')\n",
    "\n",
    "ax1.set_ylabel('Gini', fontsize=14)\n",
    "ax2.set_ylabel('Palma', fontsize=14)\n",
    "\n",
    "for ax in [ax1, ax2]:\n",
    "    ax.set_xlabel('standard deviation noise $\\sigma^{\\epsilon}$', fontsize=14)\n",
    "\n",
    "fig.savefig('stdev_f_inequality_robustness_check.png', dpi=200, bbox_inches = 'tight', pad_inches = 0)"
   ]
  },
  {
   "cell_type": "markdown",
   "metadata": {},
   "source": [
    "# Experiment with init inequality"
   ]
  },
  {
   "cell_type": "code",
   "execution_count": 224,
   "metadata": {},
   "outputs": [
    {
     "name": "stdout",
     "output_type": "stream",
     "text": [
      "[0.9, 0.7, 0.5, 0.3, 0.1]\n"
     ]
    }
   ],
   "source": [
    "init_equality = [x / 100.0 for x in range(10, 100, 20)]\n",
    "init_equality = init_equality[::-1]\n",
    "print(init_equality)"
   ]
  },
  {
   "cell_type": "code",
   "execution_count": 225,
   "metadata": {},
   "outputs": [
    {
     "data": {
      "text/plain": [
       "[0.1, 0.3, 0.5, 0.7, 0.9]"
      ]
     },
     "execution_count": 225,
     "metadata": {},
     "output_type": "execute_result"
    }
   ],
   "source": [
    "stdev_fun = [x / 100.0 for x in range(10, 100, 20)]\n",
    "#stdev_fun[0] = 0.0001\n",
    "stdev_fun"
   ]
  },
  {
   "cell_type": "code",
   "execution_count": 121,
   "metadata": {},
   "outputs": [],
   "source": [
    "#params['std_noise'] = 0.4"
   ]
  },
  {
   "cell_type": "code",
   "execution_count": 226,
   "metadata": {},
   "outputs": [],
   "source": [
    "NRUNS = 5"
   ]
  },
  {
   "cell_type": "code",
   "execution_count": 244,
   "metadata": {},
   "outputs": [
    {
     "name": "stdout",
     "output_type": "stream",
     "text": [
      "Start of simulation  0\n",
      "Start of simulation  1\n",
      "Start of simulation  2\n",
      "Start of simulation  3\n",
      "Start of simulation  4\n",
      "Start of simulation  0\n",
      "Start of simulation  1\n",
      "Start of simulation  2\n",
      "Start of simulation  3\n",
      "Start of simulation  4\n",
      "Start of simulation  0\n",
      "Start of simulation  1\n",
      "Start of simulation  2\n",
      "Start of simulation  3\n",
      "Start of simulation  4\n",
      "Start of simulation  0\n",
      "Start of simulation  1\n",
      "Start of simulation  2\n",
      "Start of simulation  3\n",
      "Start of simulation  4\n",
      "Start of simulation  0\n",
      "Start of simulation  1\n",
      "Start of simulation  2\n",
      "Start of simulation  3\n",
      "Start of simulation  4\n",
      "Start of simulation  0\n",
      "Start of simulation  1\n",
      "Start of simulation  2\n",
      "Start of simulation  3\n",
      "Start of simulation  4\n",
      "Start of simulation  0\n",
      "Start of simulation  1\n",
      "Start of simulation  2\n",
      "Start of simulation  3\n",
      "Start of simulation  4\n",
      "Start of simulation  0\n",
      "Start of simulation  1\n",
      "Start of simulation  2\n",
      "Start of simulation  3\n",
      "Start of simulation  4\n",
      "Start of simulation  0\n",
      "Start of simulation  1\n",
      "Start of simulation  2\n",
      "Start of simulation  3\n",
      "Start of simulation  4\n",
      "Start of simulation  0\n",
      "Start of simulation  1\n",
      "Start of simulation  2\n",
      "Start of simulation  3\n",
      "Start of simulation  4\n",
      "Start of simulation  0\n",
      "Start of simulation  1\n",
      "Start of simulation  2\n",
      "Start of simulation  3\n",
      "Start of simulation  4\n",
      "Start of simulation  0\n",
      "Start of simulation  1\n",
      "Start of simulation  2\n",
      "Start of simulation  3\n",
      "Start of simulation  4\n",
      "Start of simulation  0\n",
      "Start of simulation  1\n",
      "Start of simulation  2\n",
      "Start of simulation  3\n",
      "Start of simulation  4\n",
      "Start of simulation  0\n",
      "Start of simulation  1\n",
      "Start of simulation  2\n",
      "Start of simulation  3\n",
      "Start of simulation  4\n",
      "Start of simulation  0\n",
      "Start of simulation  1\n",
      "Start of simulation  2\n",
      "Start of simulation  3\n",
      "Start of simulation  4\n",
      "Start of simulation  0\n",
      "Start of simulation  1\n",
      "Start of simulation  2\n",
      "Start of simulation  3\n",
      "Start of simulation  4\n",
      "Start of simulation  0\n",
      "Start of simulation  1\n",
      "Start of simulation  2\n",
      "Start of simulation  3\n",
      "Start of simulation  4\n",
      "Start of simulation  0\n",
      "Start of simulation  1\n",
      "Start of simulation  2\n",
      "Start of simulation  3\n",
      "Start of simulation  4\n",
      "Start of simulation  0\n",
      "Start of simulation  1\n",
      "Start of simulation  2\n",
      "Start of simulation  3\n",
      "Start of simulation  4\n",
      "Start of simulation  0\n",
      "Start of simulation  1\n",
      "Start of simulation  2\n",
      "Start of simulation  3\n",
      "Start of simulation  4\n",
      "Start of simulation  0\n",
      "Start of simulation  1\n",
      "Start of simulation  2\n",
      "Start of simulation  3\n",
      "Start of simulation  4\n",
      "Start of simulation  0\n",
      "Start of simulation  1\n",
      "Start of simulation  2\n",
      "Start of simulation  3\n",
      "Start of simulation  4\n",
      "Start of simulation  0\n",
      "Start of simulation  1\n",
      "Start of simulation  2\n",
      "Start of simulation  3\n",
      "Start of simulation  4\n",
      "Start of simulation  0\n",
      "Start of simulation  1\n",
      "Start of simulation  2\n",
      "Start of simulation  3\n",
      "Start of simulation  4\n",
      "Start of simulation  0\n",
      "Start of simulation  1\n",
      "Start of simulation  2\n",
      "Start of simulation  3\n",
      "Start of simulation  4\n"
     ]
    }
   ],
   "source": [
    "av_init_gini = []\n",
    "av_init_palma = []\n",
    "av_gini_diff = []\n",
    "av_palma_diff = []\n",
    "stdev_noise = []\n",
    "\n",
    "#trdrs = []\n",
    "#orbs = []\n",
    "for std_exp in range(len(stdev_fun)):\n",
    "    params['std_noise'] = stdev_fun[std_exp]\n",
    "    for exp in range(len(init_equality)):\n",
    "        init_gini = []\n",
    "        gini_diffs = []\n",
    "        init_palma = []\n",
    "        palma_diffs = []\n",
    "        \n",
    "        equality = init_equality[exp]\n",
    "        for seed in range(NRUNS): \n",
    "            traders, orderbook = init_objects_unequal(params, seed, equality)\n",
    "            traders, orderbook = volatility_inequality_model2(traders, orderbook, params, seed)\n",
    "            #trdrs.append(traders)\n",
    "            #orbs.append(orderbook)\n",
    "            \n",
    "            money_start = np.array([x.var.money[0] for x in traders])\n",
    "            stocks_start = np.array([x.var.stocks[0] for x in traders])\n",
    "            wealth_start = money_start + (stocks_start * orbs[idx].tick_close_price[0])\n",
    "            \n",
    "            share_top_10 = sum(np.sort(wealth_start)[int(len(wealth_start) * 0.9):]) / sum(wealth_start)\n",
    "            share_bottom_40 = sum(np.sort(wealth_start)[:int(len(wealth_start) * 0.4)]) / sum(wealth_start)\n",
    "        \n",
    "            init_palma.append(share_top_10 / share_bottom_40)\n",
    "            init_gini.append(gini(wealth_start))\n",
    "\n",
    "            money_end = np.array([x.var.money[-1] for x in traders])\n",
    "            stocks_end = np.array([x.var.stocks[-1] for x in traders])\n",
    "            wealth_end = money_end + (stocks_end * orbs[idx].tick_close_price[-1])\n",
    "            \n",
    "            end_share_top_10 = sum(np.sort(wealth_end)[int(len(wealth_end) * 0.9):]) / sum(wealth_end)\n",
    "            end_share_bottom_40 = sum(np.sort(wealth_end)[:int(len(wealth_end) * 0.4)]) / sum(wealth_end)\n",
    "            \n",
    "            palma_diffs.append((end_share_top_10 / end_share_bottom_40 - share_top_10 / share_bottom_40) / share_top_10 / share_bottom_40)\n",
    "            gini_diffs.append(gini(wealth_end) - gini(wealth_start))\n",
    "        \n",
    "        av_init_palma.append(np.mean(init_palma))\n",
    "        av_palma_diff.append(np.mean(palma_diffs))\n",
    "        \n",
    "        av_init_gini.append(np.mean(init_gini))\n",
    "        av_gini_diff.append(np.mean(gini_diffs))\n",
    "        \n",
    "        stdev_noise.append(stdev_fun[std_exp])"
   ]
  },
  {
   "cell_type": "code",
   "execution_count": 254,
   "metadata": {},
   "outputs": [],
   "source": [
    "gini_data = pd.DataFrame({'delta Gini': av_gini_diff, 'initial Gini': av_init_gini, '$\\sigma^{\\epsilon}$': stdev_noise}).round(2)"
   ]
  },
  {
   "cell_type": "code",
   "execution_count": 255,
   "metadata": {},
   "outputs": [],
   "source": [
    "gini_data = gini_data.pivot(\"initial Gini\", \"$\\sigma^{\\epsilon}$\", \"delta Gini\")"
   ]
  },
  {
   "cell_type": "code",
   "execution_count": 262,
   "metadata": {},
   "outputs": [],
   "source": [
    "palma_data = pd.DataFrame({'delta Palma': av_palma_diff, 'initial Palma': av_init_palma, '$\\sigma^{\\epsilon}$': stdev_noise}).round(2)"
   ]
  },
  {
   "cell_type": "code",
   "execution_count": 263,
   "metadata": {},
   "outputs": [
    {
     "data": {
      "text/html": [
       "<div>\n",
       "<style scoped>\n",
       "    .dataframe tbody tr th:only-of-type {\n",
       "        vertical-align: middle;\n",
       "    }\n",
       "\n",
       "    .dataframe tbody tr th {\n",
       "        vertical-align: top;\n",
       "    }\n",
       "\n",
       "    .dataframe thead th {\n",
       "        text-align: right;\n",
       "    }\n",
       "</style>\n",
       "<table border=\"1\" class=\"dataframe\">\n",
       "  <thead>\n",
       "    <tr style=\"text-align: right;\">\n",
       "      <th></th>\n",
       "      <th>delta Palma</th>\n",
       "      <th>initial Palma</th>\n",
       "      <th>$\\sigma^{\\epsilon}$</th>\n",
       "    </tr>\n",
       "  </thead>\n",
       "  <tbody>\n",
       "    <tr>\n",
       "      <th>0</th>\n",
       "      <td>1.592600e+02</td>\n",
       "      <td>1.42</td>\n",
       "      <td>0.1</td>\n",
       "    </tr>\n",
       "    <tr>\n",
       "      <th>1</th>\n",
       "      <td>2.547500e+02</td>\n",
       "      <td>2.17</td>\n",
       "      <td>0.1</td>\n",
       "    </tr>\n",
       "    <tr>\n",
       "      <th>2</th>\n",
       "      <td>6.403900e+02</td>\n",
       "      <td>4.50</td>\n",
       "      <td>0.1</td>\n",
       "    </tr>\n",
       "    <tr>\n",
       "      <th>3</th>\n",
       "      <td>7.319220e+03</td>\n",
       "      <td>22.27</td>\n",
       "      <td>0.1</td>\n",
       "    </tr>\n",
       "    <tr>\n",
       "      <th>4</th>\n",
       "      <td>2.061020e+10</td>\n",
       "      <td>45689.49</td>\n",
       "      <td>0.1</td>\n",
       "    </tr>\n",
       "    <tr>\n",
       "      <th>5</th>\n",
       "      <td>2.296900e+02</td>\n",
       "      <td>1.42</td>\n",
       "      <td>0.3</td>\n",
       "    </tr>\n",
       "    <tr>\n",
       "      <th>6</th>\n",
       "      <td>3.630000e+02</td>\n",
       "      <td>2.17</td>\n",
       "      <td>0.3</td>\n",
       "    </tr>\n",
       "    <tr>\n",
       "      <th>7</th>\n",
       "      <td>8.881900e+02</td>\n",
       "      <td>4.50</td>\n",
       "      <td>0.3</td>\n",
       "    </tr>\n",
       "    <tr>\n",
       "      <th>8</th>\n",
       "      <td>9.668250e+03</td>\n",
       "      <td>22.27</td>\n",
       "      <td>0.3</td>\n",
       "    </tr>\n",
       "    <tr>\n",
       "      <th>9</th>\n",
       "      <td>2.130156e+10</td>\n",
       "      <td>45689.49</td>\n",
       "      <td>0.3</td>\n",
       "    </tr>\n",
       "    <tr>\n",
       "      <th>10</th>\n",
       "      <td>2.939600e+02</td>\n",
       "      <td>1.42</td>\n",
       "      <td>0.5</td>\n",
       "    </tr>\n",
       "    <tr>\n",
       "      <th>11</th>\n",
       "      <td>4.627400e+02</td>\n",
       "      <td>2.17</td>\n",
       "      <td>0.5</td>\n",
       "    </tr>\n",
       "    <tr>\n",
       "      <th>12</th>\n",
       "      <td>1.129210e+03</td>\n",
       "      <td>4.50</td>\n",
       "      <td>0.5</td>\n",
       "    </tr>\n",
       "    <tr>\n",
       "      <th>13</th>\n",
       "      <td>1.177012e+04</td>\n",
       "      <td>22.27</td>\n",
       "      <td>0.5</td>\n",
       "    </tr>\n",
       "    <tr>\n",
       "      <th>14</th>\n",
       "      <td>2.160671e+10</td>\n",
       "      <td>45689.49</td>\n",
       "      <td>0.5</td>\n",
       "    </tr>\n",
       "    <tr>\n",
       "      <th>15</th>\n",
       "      <td>3.562000e+02</td>\n",
       "      <td>1.42</td>\n",
       "      <td>0.7</td>\n",
       "    </tr>\n",
       "    <tr>\n",
       "      <th>16</th>\n",
       "      <td>5.471300e+02</td>\n",
       "      <td>2.17</td>\n",
       "      <td>0.7</td>\n",
       "    </tr>\n",
       "    <tr>\n",
       "      <th>17</th>\n",
       "      <td>1.325670e+03</td>\n",
       "      <td>4.50</td>\n",
       "      <td>0.7</td>\n",
       "    </tr>\n",
       "    <tr>\n",
       "      <th>18</th>\n",
       "      <td>1.342616e+04</td>\n",
       "      <td>22.27</td>\n",
       "      <td>0.7</td>\n",
       "    </tr>\n",
       "    <tr>\n",
       "      <th>19</th>\n",
       "      <td>2.178048e+10</td>\n",
       "      <td>45689.49</td>\n",
       "      <td>0.7</td>\n",
       "    </tr>\n",
       "    <tr>\n",
       "      <th>20</th>\n",
       "      <td>3.995200e+02</td>\n",
       "      <td>1.42</td>\n",
       "      <td>0.9</td>\n",
       "    </tr>\n",
       "    <tr>\n",
       "      <th>21</th>\n",
       "      <td>6.158500e+02</td>\n",
       "      <td>2.17</td>\n",
       "      <td>0.9</td>\n",
       "    </tr>\n",
       "    <tr>\n",
       "      <th>22</th>\n",
       "      <td>1.509200e+03</td>\n",
       "      <td>4.50</td>\n",
       "      <td>0.9</td>\n",
       "    </tr>\n",
       "    <tr>\n",
       "      <th>23</th>\n",
       "      <td>1.408789e+04</td>\n",
       "      <td>22.27</td>\n",
       "      <td>0.9</td>\n",
       "    </tr>\n",
       "    <tr>\n",
       "      <th>24</th>\n",
       "      <td>2.146854e+10</td>\n",
       "      <td>45689.49</td>\n",
       "      <td>0.9</td>\n",
       "    </tr>\n",
       "  </tbody>\n",
       "</table>\n",
       "</div>"
      ],
      "text/plain": [
       "     delta Palma  initial Palma  $\\sigma^{\\epsilon}$\n",
       "0   1.592600e+02           1.42                  0.1\n",
       "1   2.547500e+02           2.17                  0.1\n",
       "2   6.403900e+02           4.50                  0.1\n",
       "3   7.319220e+03          22.27                  0.1\n",
       "4   2.061020e+10       45689.49                  0.1\n",
       "5   2.296900e+02           1.42                  0.3\n",
       "6   3.630000e+02           2.17                  0.3\n",
       "7   8.881900e+02           4.50                  0.3\n",
       "8   9.668250e+03          22.27                  0.3\n",
       "9   2.130156e+10       45689.49                  0.3\n",
       "10  2.939600e+02           1.42                  0.5\n",
       "11  4.627400e+02           2.17                  0.5\n",
       "12  1.129210e+03           4.50                  0.5\n",
       "13  1.177012e+04          22.27                  0.5\n",
       "14  2.160671e+10       45689.49                  0.5\n",
       "15  3.562000e+02           1.42                  0.7\n",
       "16  5.471300e+02           2.17                  0.7\n",
       "17  1.325670e+03           4.50                  0.7\n",
       "18  1.342616e+04          22.27                  0.7\n",
       "19  2.178048e+10       45689.49                  0.7\n",
       "20  3.995200e+02           1.42                  0.9\n",
       "21  6.158500e+02           2.17                  0.9\n",
       "22  1.509200e+03           4.50                  0.9\n",
       "23  1.408789e+04          22.27                  0.9\n",
       "24  2.146854e+10       45689.49                  0.9"
      ]
     },
     "execution_count": 263,
     "metadata": {},
     "output_type": "execute_result"
    }
   ],
   "source": [
    "palma_data"
   ]
  },
  {
   "cell_type": "code",
   "execution_count": 257,
   "metadata": {},
   "outputs": [],
   "source": [
    "palma_data = palma_data[palma_data['delta Palma']<10000]"
   ]
  },
  {
   "cell_type": "code",
   "execution_count": 258,
   "metadata": {},
   "outputs": [],
   "source": [
    "palma_data = palma_data.pivot(\"initial Palma\", \"$\\sigma^{\\epsilon}$\", \"delta Palma\")"
   ]
  },
  {
   "cell_type": "code",
   "execution_count": 148,
   "metadata": {},
   "outputs": [],
   "source": [
    "import seaborn as sns \n",
    "sns.set()"
   ]
  },
  {
   "cell_type": "code",
   "execution_count": 275,
   "metadata": {},
   "outputs": [
    {
     "data": {
      "image/png": "[encoded data removed]",
      "text/plain": [
       "<Figure size 864x360 with 2 Axes>"
      ]
     },
     "metadata": {},
     "output_type": "display_data"
    }
   ],
   "source": [
    "fig, ax1 = plt.subplots(1, 1, figsize=[12,5])\n",
    "\n",
    "sns.heatmap(gini_data, cmap=\"Greys\", ax=ax1, cbar=True, annot=True, linewidths=1, linecolor='white')\n",
    "#sns.heatmap(palma_data, cmap=\"Greys\", ax=ax2, cbar=True, annot=True)\n",
    "\n",
    "fig.savefig('heatmap.png', dpi=200, bbox_inches = 'tight', pad_inches = 0)"
   ]
  },
  {
   "cell_type": "markdown",
   "metadata": {},
   "source": [
    "## Sensitivity analysis"
   ]
  },
  {
   "cell_type": "code",
   "execution_count": 276,
   "metadata": {},
   "outputs": [],
   "source": [
    "# TODO "
   ]
  },
  {
   "cell_type": "code",
   "execution_count": null,
   "metadata": {},
   "outputs": [],
   "source": []
  }
 ],
 "metadata": {
  "kernelspec": {
   "display_name": "Python 3",
   "language": "python",
   "name": "python3"
  },
  "language_info": {
   "codemirror_mode": {
    "name": "ipython",
    "version": 3
   },
   "file_extension": ".py",
   "mimetype": "text/x-python",
   "name": "python",
   "nbconvert_exporter": "python",
   "pygments_lexer": "ipython3",
   "version": "3.6.8"
  }
 },
 "nbformat": 4,
 "nbformat_minor": 2
}
