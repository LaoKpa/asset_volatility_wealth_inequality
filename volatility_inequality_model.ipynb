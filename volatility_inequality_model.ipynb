{
 "cells": [
  {
   "cell_type": "code",
   "execution_count": 1,
   "metadata": {},
   "outputs": [],
   "source": [
    "%matplotlib inline\n",
    "import numpy as np\n",
    "import pandas as pd\n",
    "import json\n",
    "import math\n",
    "import matplotlib.pyplot as plt\n",
    "from init_objects import *\n",
    "from functions.helpers import organise_data, hypothetical_series, get_specific_bootstraps_moments, confidence_interval\n",
    "from functions.inequality import gini\n",
    "from model import *\n",
    "import statsmodels.api as sm\n",
    "from matplotlib import style\n",
    "from functions.evolutionaryalgo import *\n",
    "import scipy.stats as stats\n",
    "from SALib.sample import latin"
   ]
  },
  {
   "cell_type": "code",
   "execution_count": 2,
   "metadata": {},
   "outputs": [],
   "source": [
    "style.use('ggplot')"
   ]
  },
  {
   "cell_type": "markdown",
   "metadata": {},
   "source": [
    "# Asset price volatility and wealth inequality\n",
    "\n",
    "This notebook contains the following steps:\n",
    "\n",
    "1. Parameter calibration and estimation\n",
    "2. Model dynamics\n",
    "3. Experiment\n",
    "\n",
    "## 1 Parameter calibration and estimation\n",
    "\n",
    "### 1.1 Collect data"
   ]
  },
  {
   "cell_type": "code",
   "execution_count": 3,
   "metadata": {},
   "outputs": [],
   "source": [
    "shiller_data = pd.read_excel('http://www.econ.yale.edu/~shiller/data/ie_data.xls', header=7)[:-3]\n",
    "p = pd.Series(np.array(shiller_data.iloc[1174:-1]['Price'])) #starting in 1952  was 1224\n",
    "price_div = pd.Series(np.array(shiller_data.iloc[1174:-1]['CAPE']))\n",
    "p_returns = pd.Series(np.array(shiller_data.iloc[1174:]['Price'])).pct_change()[1:]\n",
    "pd_returns = pd.Series(np.array(shiller_data.iloc[1174:]['CAPE'])).pct_change()[1:]"
   ]
  },
  {
   "cell_type": "markdown",
   "metadata": {},
   "source": [
    "### 1.2 calibration\n",
    "\n",
    "First, I set two parameters for computational efficiency"
   ]
  },
  {
   "cell_type": "markdown",
   "metadata": {},
   "source": [
    "Then, I calibrate parameters using data and literature. "
   ]
  },
  {
   "cell_type": "code",
   "execution_count": 4,
   "metadata": {},
   "outputs": [],
   "source": [
    "params = {\"trader_sample_size\": 10, # selected for comp efficiency\n",
    "          \"n_traders\": 1000, # selected for comp efficiency\n",
    "          \"init_stocks\": int((21780000000 / 267.33) / float(1000000)), # market valuation of Vanguard S&P 500 / share price \n",
    "          \"ticks\": len(p), # lenght of reference data\n",
    "          \"fundamental_value\": p.mean(), # average value of reference data, assuming efficient markets\n",
    "          \"std_fundamental\": p_returns.std(), # standard deviation of returns sp price, assuming efficient markets\n",
    "          \"base_risk_aversion\": 0.7, # estimate from Kim & Lee (2012)\n",
    "          'spread_max': 0.004087, # estimate from Riordan & Storkenmaier (2012)\n",
    "          \"horizon\": int(len(p) * 0.35), # estimate based on average churn ratio found by Cella, Ellul and Giannetti (2013)\n",
    "          \"std_noise\": 0.01, \n",
    "          \"w_random\": 0.1, \n",
    "          # parameter only used for experiment\n",
    "          \"mean_reversion\": 0.0,\n",
    "          # fixed / not modelled parameters\n",
    "          \"fundamentalist_horizon_multiplier\": 1.0,\n",
    "          \"strat_share_chartists\": 0.0,\n",
    "          \"mutation_intensity\": 0.0,\n",
    "          \"average_learning_ability\": 0.0,\n",
    "          \"trades_per_tick\": 1\n",
    "         }"
   ]
  },
  {
   "cell_type": "code",
   "execution_count": 5,
   "metadata": {},
   "outputs": [
    {
     "data": {
      "text/plain": [
       "{'trader_sample_size': 10,\n",
       " 'n_traders': 1000,\n",
       " 'init_stocks': 81,\n",
       " 'ticks': 604,\n",
       " 'fundamental_value': 1101.1096156039398,\n",
       " 'std_fundamental': 0.036138325335996965,\n",
       " 'base_risk_aversion': 0.7,\n",
       " 'spread_max': 0.004087,\n",
       " 'horizon': 211,\n",
       " 'std_noise': 0.01,\n",
       " 'w_random': 0.1,\n",
       " 'mean_reversion': 0.0,\n",
       " 'fundamentalist_horizon_multiplier': 1.0,\n",
       " 'strat_share_chartists': 0.0,\n",
       " 'mutation_intensity': 0.0,\n",
       " 'average_learning_ability': 0.0,\n",
       " 'trades_per_tick': 1}"
      ]
     },
     "execution_count": 5,
     "metadata": {},
     "output_type": "execute_result"
    }
   ],
   "source": [
    "params"
   ]
  },
  {
   "cell_type": "markdown",
   "metadata": {},
   "source": [
    "Finally, there are two parameters left which are difficult to calibrate. Therefore, I estimate these values using the method of simulated moments. The starting point of this method is finding appropriate moments which the model should be able to replicate. I note that there should be more moments than parameters. Since 2 parameters need to be estimated, 3 moments are needed. Since this is a highly stylized model, I am only interested in the model replicating some basic moments of the price return series. The parameters are the average, standard deviation and average autocorrelation over 25 lags. \n",
    "\n",
    "First, I calculate these moments for the empirical data. "
   ]
  },
  {
   "cell_type": "code",
   "execution_count": 6,
   "metadata": {},
   "outputs": [
    {
     "data": {
      "text/plain": [
       "array([0.00283408, 0.03613833, 0.00952201])"
      ]
     },
     "execution_count": 6,
     "metadata": {},
     "output_type": "execute_result"
    }
   ],
   "source": [
    "emp_moments = np.array([\n",
    "    p_returns.mean(),\n",
    "    p_returns.std(),\n",
    "    autocorrelation_returns(p_returns, 25),\n",
    "    ])\n",
    "emp_moments"
   ]
  },
  {
   "cell_type": "markdown",
   "metadata": {},
   "source": [
    "To account for the fact that some of these moments might correlate over different Monte Carlo Simulations, the MSM seeks to obtain a variance covariance matrix of the moments. Since there is only one empirical reality, I use a bootstrap procedure to create a covariance matrix of empirical moments. For this, I use a block bootstrap procedure."
   ]
  },
  {
   "cell_type": "code",
   "execution_count": 7,
   "metadata": {},
   "outputs": [],
   "source": [
    "BLOCK_SIZE = 25\n",
    "BOOTSTRAPS = 100"
   ]
  },
  {
   "cell_type": "code",
   "execution_count": 8,
   "metadata": {},
   "outputs": [],
   "source": [
    "p_data_blocks = []\n",
    "for x in range(0, len(p_returns[:-3]), BLOCK_SIZE):\n",
    "    p_data_blocks.append(p_returns[x:x + BLOCK_SIZE])"
   ]
  },
  {
   "cell_type": "code",
   "execution_count": 9,
   "metadata": {},
   "outputs": [],
   "source": [
    "bootstrapped_p_returns = []\n",
    "for i in range(BOOTSTRAPS):\n",
    "    sim_data_p = [random.choice(p_data_blocks) for _ in p_data_blocks]\n",
    "    sim_data2_p = [j for i in sim_data_p for j in i]\n",
    "    bootstrapped_p_returns.append(sim_data2_p)"
   ]
  },
  {
   "cell_type": "code",
   "execution_count": 10,
   "metadata": {},
   "outputs": [],
   "source": [
    "rets_mean = []\n",
    "rets_std = []\n",
    "rets_autocor = []\n",
    "\n",
    "for rets in bootstrapped_p_returns:\n",
    "    rets_mean.append(pd.Series(rets).mean())\n",
    "    rets_std.append(pd.Series(rets).std())\n",
    "    rets_autocor.append(autocorrelation_returns(rets, 25))"
   ]
  },
  {
   "cell_type": "code",
   "execution_count": 11,
   "metadata": {},
   "outputs": [],
   "source": [
    "all_bootstrapped_moments = [rets_mean,\n",
    "                            rets_std,\n",
    "                            rets_autocor\n",
    "                           ]"
   ]
  },
  {
   "cell_type": "code",
   "execution_count": 12,
   "metadata": {},
   "outputs": [],
   "source": [
    "av_moments = [np.nanmean(x) for x in all_bootstrapped_moments]\n",
    "moments_b = [get_specific_bootstraps_moments(all_bootstrapped_moments, n) for n in range(len(bootstrapped_p_returns))]"
   ]
  },
  {
   "cell_type": "markdown",
   "metadata": {},
   "source": [
    "Here, I follow [Franke & Westerhoff 2016](https://link.springer.com/article/10.1007/s11403-014-0140-6#Sec8) in that I use the inverse of the bootstrap estimate of the moment covariance matrix as my weights."
   ]
  },
  {
   "cell_type": "code",
   "execution_count": 13,
   "metadata": {},
   "outputs": [],
   "source": [
    "W_hat = 1.0 / len(bootstrapped_p_returns) * sum([np.dot(np.array([(mb - av_moments)]).transpose(), np.array([(mb - av_moments)])) for mb in moments_b])\n",
    "W = np.linalg.inv(W_hat)\n",
    "np.save('distr_weighting_matrix', W)"
   ]
  },
  {
   "cell_type": "markdown",
   "metadata": {},
   "source": [
    "I establish confidence intervals for the moments"
   ]
  },
  {
   "cell_type": "code",
   "execution_count": 14,
   "metadata": {},
   "outputs": [],
   "source": [
    "confidence_intervals = [confidence_interval(m, emp) for m, emp in zip(all_bootstrapped_moments, emp_moments)]"
   ]
  },
  {
   "cell_type": "code",
   "execution_count": 15,
   "metadata": {},
   "outputs": [],
   "source": [
    "j_values = []\n",
    "for b in moments_b:\n",
    "    j_values.append(quadratic_loss_function(b, emp_moments, W))"
   ]
  },
  {
   "cell_type": "code",
   "execution_count": 16,
   "metadata": {},
   "outputs": [],
   "source": [
    "scores = [0 for x in moments_b[0]]\n",
    "for bootstr in range(len(moments_b)):\n",
    "    for idx, moment in enumerate(moments_b[bootstr]):\n",
    "        if moment > confidence_intervals[idx][0] and moment < confidence_intervals[idx][1]:\n",
    "            scores[idx] += 1\n",
    "MCR_bootstrapped_moments = np.array(scores) / (np.ones(len(scores)) * len(moments_b))"
   ]
  },
  {
   "cell_type": "markdown",
   "metadata": {},
   "source": [
    "To start the estimation procedure, I first sample the parameter space using Latin Hypercube sampling"
   ]
  },
  {
   "cell_type": "code",
   "execution_count": 17,
   "metadata": {},
   "outputs": [],
   "source": [
    "population_size = 1"
   ]
  },
  {
   "cell_type": "code",
   "execution_count": 18,
   "metadata": {},
   "outputs": [],
   "source": [
    "problem = {\n",
    "  'num_vars': 2,\n",
    "  'names': ['std_noise',\n",
    "            'w_random'],\n",
    "  'bounds': [[0.05, 0.20],\n",
    "             [0.02, 0.20]]\n",
    "}"
   ]
  },
  {
   "cell_type": "code",
   "execution_count": 19,
   "metadata": {},
   "outputs": [
    {
     "data": {
      "text/plain": [
       "[0.14884564965276317, 0.054803559071979105]"
      ]
     },
     "execution_count": 19,
     "metadata": {},
     "output_type": "execute_result"
    }
   ],
   "source": [
    "latin_hyper_cube = latin.sample(problem=problem, N=population_size)\n",
    "latin_hyper_cube = latin_hyper_cube.tolist()\n",
    "with open('hypercube.txt', 'w') as f:\n",
    "    json.dump(latin_hyper_cube, f)\n",
    "initial_params = latin_hyper_cube[0]\n",
    "initial_params"
   ]
  },
  {
   "cell_type": "markdown",
   "metadata": {},
   "source": [
    "I perform the estimation excercise in a different Python file using multi-processing. I download the resulting paramters below."
   ]
  },
  {
   "cell_type": "code",
   "execution_count": 20,
   "metadata": {},
   "outputs": [
    {
     "ename": "FileNotFoundError",
     "evalue": "[Errno 2] No such file or directory: 'estimated_params.json'",
     "output_type": "error",
     "traceback": [
      "\u001b[1;31m---------------------------------------------------------------------------\u001b[0m",
      "\u001b[1;31mFileNotFoundError\u001b[0m                         Traceback (most recent call last)",
      "\u001b[1;32m<ipython-input-20-3a767591398c>\u001b[0m in \u001b[0;36m<module>\u001b[1;34m\u001b[0m\n\u001b[1;32m----> 1\u001b[1;33m \u001b[1;32mwith\u001b[0m \u001b[0mopen\u001b[0m\u001b[1;33m(\u001b[0m\u001b[1;34m'estimated_params.json'\u001b[0m\u001b[1;33m,\u001b[0m \u001b[1;34m'r'\u001b[0m\u001b[1;33m)\u001b[0m \u001b[1;32mas\u001b[0m \u001b[0mf\u001b[0m\u001b[1;33m:\u001b[0m\u001b[1;33m\u001b[0m\u001b[1;33m\u001b[0m\u001b[0m\n\u001b[0m\u001b[0;32m      2\u001b[0m     \u001b[0mest_params\u001b[0m \u001b[1;33m=\u001b[0m \u001b[0mjson\u001b[0m\u001b[1;33m.\u001b[0m\u001b[0mloads\u001b[0m\u001b[1;33m(\u001b[0m\u001b[0mf\u001b[0m\u001b[1;33m.\u001b[0m\u001b[0mread\u001b[0m\u001b[1;33m(\u001b[0m\u001b[1;33m)\u001b[0m\u001b[1;33m)\u001b[0m\u001b[1;33m\u001b[0m\u001b[1;33m\u001b[0m\u001b[0m\n",
      "\u001b[1;31mFileNotFoundError\u001b[0m: [Errno 2] No such file or directory: 'estimated_params.json'"
     ]
    }
   ],
   "source": [
    "with open('estimated_params.json', 'r') as f:\n",
    "    est_params = json.loads(f.read())"
   ]
  },
  {
   "cell_type": "code",
   "execution_count": 75,
   "metadata": {},
   "outputs": [],
   "source": [
    "for i, name in enumerate(problem['names']):\n",
    "    params[name] = est_params[i]"
   ]
  },
  {
   "cell_type": "code",
   "execution_count": 50,
   "metadata": {},
   "outputs": [],
   "source": [
    "params['std_noise'] = 5.59\n",
    "params['w_random'] = 0.19"
   ]
  },
  {
   "cell_type": "markdown",
   "metadata": {},
   "source": [
    "# Volatility inequality model"
   ]
  },
  {
   "cell_type": "code",
   "execution_count": 51,
   "metadata": {},
   "outputs": [],
   "source": [
    "NRUNS = 2"
   ]
  },
  {
   "cell_type": "code",
   "execution_count": 52,
   "metadata": {},
   "outputs": [
    {
     "name": "stdout",
     "output_type": "stream",
     "text": [
      "Start of simulation  0\n",
      "Start of simulation  1\n"
     ]
    }
   ],
   "source": [
    "trdrs0 = []\n",
    "orbs0 = []\n",
    "for seed in range(NRUNS): \n",
    "    traders0, orderbook0 = init_objects_distr(params, seed)\n",
    "    traders0, orderbook0 = volatility_inequality_model2(traders0, orderbook0, params, seed)\n",
    "    trdrs0.append(traders0)\n",
    "    orbs0.append(orderbook0)"
   ]
  },
  {
   "cell_type": "code",
   "execution_count": 53,
   "metadata": {},
   "outputs": [],
   "source": [
    "mc_prices, mc_returns, mc_autocorr_returns, mc_autocorr_abs_returns, mc_volatility, mc_volume, mc_fundamentals = organise_data(orbs0, burn_in_period=0)"
   ]
  },
  {
   "cell_type": "code",
   "execution_count": 54,
   "metadata": {},
   "outputs": [],
   "source": [
    "#mc_prices[0].pct_change().std()"
   ]
  },
  {
   "cell_type": "code",
   "execution_count": 55,
   "metadata": {},
   "outputs": [],
   "source": [
    "lower_c_price = []\n",
    "upper_c_price = []\n",
    "for row in range(len(mc_fundamentals)):\n",
    "    price_range = mc_prices.iloc[row]# / mc_fundamentals.iloc[row]\n",
    "    lower, upper = confidence_interval(price_range, np.mean(price_range))\n",
    "    lower_c_price.append(lower)\n",
    "    upper_c_price.append(upper)"
   ]
  },
  {
   "cell_type": "markdown",
   "metadata": {},
   "source": [
    "Identify individual wealth changes"
   ]
  },
  {
   "cell_type": "code",
   "execution_count": 56,
   "metadata": {},
   "outputs": [],
   "source": [
    "wealth_starts = []\n",
    "wealth_ends = []\n",
    "ginis_ot = []\n",
    "palmas_ot = []\n",
    "profits = []\n",
    "real_profits = []\n",
    "market_returns = []\n",
    "\n",
    "# determine the start and end wealth of the bubble\n",
    "for seed, traders in enumerate(trdrs0):\n",
    "    money_start = np.array([x.var.money[0] for x in traders])\n",
    "    stocks_start = np.array([x.var.stocks[0] for x in traders])\n",
    "    wealth_start = money_start + (stocks_start * orbs0[seed].tick_close_price[0])\n",
    "\n",
    "    money_end = np.array([x.var.money[-1] for x in traders])\n",
    "    stocks_end = np.array([x.var.stocks[-1] for x in traders])\n",
    "    wealth_end = money_end + (stocks_end * orbs0[seed].tick_close_price[-1])\n",
    "    \n",
    "    # profits\n",
    "    profits.append((np.array(wealth_end) - np.array(wealth_start)) / np.array(wealth_start))\n",
    "    real_profits.append(np.array(wealth_end) - np.array(wealth_start))\n",
    "    market_returns.append([(orbs0[seed].tick_close_price[-1] - orbs0[seed].tick_close_price[0]) / orbs0[seed].tick_close_price[0] for x in range(len(wealth_start))])\n",
    "\n",
    "    wealth_gini_over_time = []\n",
    "    palma_over_time = []\n",
    "    for t in range(params['ticks']):\n",
    "        money = np.array([x.var.money[t] for x in traders])\n",
    "        stocks = np.array([x.var.stocks[t] for x in traders])\n",
    "        wealth = money + (stocks * orbs0[seed].tick_close_price[0])\n",
    "\n",
    "        share_top_10 = sum(np.sort(wealth)[int(len(wealth) * 0.9):]) / sum(wealth)\n",
    "        share_bottom_40 = sum(np.sort(wealth)[:int(len(wealth) * 0.4)]) / sum(wealth)\n",
    "        palma_over_time.append(share_top_10 / share_bottom_40)\n",
    "\n",
    "        wealth_gini_over_time.append(gini(wealth))\n",
    "\n",
    "    wealth_starts.append(list(wealth_start))\n",
    "    wealth_ends.append(list(wealth_end))\n",
    "    ginis_ot.append(wealth_gini_over_time)\n",
    "    palmas_ot.append(palma_over_time)"
   ]
  },
  {
   "cell_type": "code",
   "execution_count": 57,
   "metadata": {},
   "outputs": [],
   "source": [
    "av_gini_ot = []\n",
    "low_gini_ot = []\n",
    "up_gini_ot = []\n",
    "\n",
    "av_palma_ot = []\n",
    "low_palma_ot = []\n",
    "up_palma_ot = []\n",
    "\n",
    "for t in range(params['ticks']):\n",
    "    t_gini = [g[t] for g in ginis_ot]\n",
    "    av_gini_ot.append(np.mean(t_gini))\n",
    "    low, up = confidence_interval(t_gini, np.mean(t_gini))\n",
    "    low_gini_ot.append(low)\n",
    "    up_gini_ot.append(up)\n",
    "\n",
    "    t_palma = [p[t] for p in palmas_ot]\n",
    "    av_palma_ot.append(np.mean(t_palma))\n",
    "    low, up = confidence_interval(t_palma, np.mean(t_palma))\n",
    "    low_palma_ot.append(low)\n",
    "    up_palma_ot.append(up)"
   ]
  },
  {
   "cell_type": "code",
   "execution_count": 58,
   "metadata": {},
   "outputs": [
    {
     "data": {
      "text/plain": [
       "Text(0.5, 0, 'Agents')"
      ]
     },
     "execution_count": 58,
     "metadata": {},
     "output_type": "execute_result"
    },
    {
     "data": {
      "image/png": "[encoded data removed]",
      "text/plain": [
       "<Figure size 1296x360 with 3 Axes>"
      ]
     },
     "metadata": {},
     "output_type": "display_data"
    }
   ],
   "source": [
    "fig, (ax1, ax2, ax3) = plt.subplots(1, 3, figsize=(18,5))\n",
    "\n",
    "ax1.plot(mc_fundamentals.index, mc_fundamentals.mean(axis=1), label='Fundamental')\n",
    "#ax1.plot(mc_prices.index, (mc_prices.mean(axis=1) / mc_fundamentals.mean(axis=1))[:], label='Market')\n",
    "ax1.plot(mc_prices.index, mc_prices.mean(axis=1), label='Market')\n",
    "ax1.plot(mc_prices.index[:-1], lower_c_price, 'k--')\n",
    "ax1.plot(mc_prices.index[:-1], upper_c_price, 'k--')\n",
    "ax1.legend(loc='best', fontsize='14')\n",
    "\n",
    "ax1.set_ylabel('Value', fontsize='14')\n",
    "\n",
    "ax2.plot(range(len(av_gini_ot[:])), av_gini_ot[:])\n",
    "ax2.plot(range(len(low_gini_ot[:])), low_gini_ot[:], 'k--')\n",
    "ax2.plot(range(len(up_gini_ot[:])), up_gini_ot[:], 'k--')\n",
    "ax2.set_ylabel('Gini', fontsize='14')\n",
    "\n",
    "ax3.plot(range(len(av_gini_ot[:])), av_palma_ot[:])\n",
    "ax3.plot(range(len(low_gini_ot[:])), low_palma_ot[:], 'k--')\n",
    "ax3.plot(range(len(up_gini_ot[:])), up_palma_ot[:], 'k--')\n",
    "ax3.set_ylabel('Palma', fontsize='14')\n",
    "\n",
    "\n",
    "for ax in (ax1, ax2, ax3):\n",
    "    ax.set_xlabel('Simulation time', fontsize='14')\n",
    "    \n",
    "ax3.set_xlabel('Agents', fontsize='14')\n",
    "\n",
    "#fig.savefig('baseline_dynamics.png', dpi=200, bbox_inches = 'tight', pad_inches = 0)"
   ]
  },
  {
   "cell_type": "markdown",
   "metadata": {},
   "source": [
    "# Experiment "
   ]
  },
  {
   "cell_type": "code",
   "execution_count": 148,
   "metadata": {},
   "outputs": [],
   "source": [
    "stdev_fun = [x / 100.0 for x in range(0, 800, 50)]"
   ]
  },
  {
   "cell_type": "code",
   "execution_count": 149,
   "metadata": {},
   "outputs": [],
   "source": [
    "NRUNS = 5"
   ]
  },
  {
   "cell_type": "code",
   "execution_count": 150,
   "metadata": {},
   "outputs": [],
   "source": [
    "stdev_fun[0] = 0.0001"
   ]
  },
  {
   "cell_type": "code",
   "execution_count": 151,
   "metadata": {},
   "outputs": [
    {
     "data": {
      "text/plain": [
       "[0.0001, 1.0, 2.0, 3.0, 4.0, 5.0, 6.0, 7.0, 8.0]"
      ]
     },
     "execution_count": 151,
     "metadata": {},
     "output_type": "execute_result"
    }
   ],
   "source": [
    "stdev_fun"
   ]
  },
  {
   "cell_type": "code",
   "execution_count": 152,
   "metadata": {},
   "outputs": [],
   "source": [
    "experiments = len(stdev_fun)"
   ]
  },
  {
   "cell_type": "code",
   "execution_count": 153,
   "metadata": {},
   "outputs": [
    {
     "name": "stdout",
     "output_type": "stream",
     "text": [
      "Start of simulation  0\n",
      "Start of simulation  1\n",
      "Start of simulation  2\n",
      "Start of simulation  3\n",
      "Start of simulation  4\n",
      "Start of simulation  0\n",
      "Start of simulation  1\n",
      "Start of simulation  2\n",
      "Start of simulation  3\n",
      "Start of simulation  4\n",
      "Start of simulation  0\n",
      "Start of simulation  1\n",
      "Start of simulation  2\n",
      "Start of simulation  3\n",
      "Start of simulation  4\n",
      "Start of simulation  0\n",
      "Start of simulation  1\n",
      "Start of simulation  2\n",
      "Start of simulation  3\n",
      "Start of simulation  4\n",
      "Start of simulation  0\n",
      "Start of simulation  1\n",
      "Start of simulation  2\n",
      "Start of simulation  3\n",
      "Start of simulation  4\n",
      "Start of simulation  0\n",
      "Start of simulation  1\n",
      "Start of simulation  2\n",
      "Start of simulation  3\n",
      "Start of simulation  4\n",
      "Start of simulation  0\n",
      "Start of simulation  1\n",
      "Start of simulation  2\n",
      "Start of simulation  3\n",
      "Start of simulation  4\n",
      "Start of simulation  0\n",
      "Start of simulation  1\n",
      "Start of simulation  2\n",
      "Start of simulation  3\n",
      "Start of simulation  4\n",
      "Start of simulation  0\n",
      "Start of simulation  1\n",
      "Start of simulation  2\n",
      "Start of simulation  3\n",
      "Start of simulation  4\n"
     ]
    }
   ],
   "source": [
    "trdrs = []\n",
    "orbs = []\n",
    "for exp in range(experiments):\n",
    "    #params['std_fundamental'] = stdev_fun[exp]\n",
    "    params['std_noise'] = stdev_fun[exp]\n",
    "    for seed in range(NRUNS): \n",
    "        traders, orderbook = init_objects_distr(params, seed)\n",
    "        traders, orderbook = volatility_inequality_model2(traders, orderbook, params, seed)\n",
    "        trdrs.append(traders)\n",
    "        orbs.append(orderbook)"
   ]
  },
  {
   "cell_type": "code",
   "execution_count": 154,
   "metadata": {},
   "outputs": [],
   "source": [
    "full_stdev_fun = []\n",
    "for exp in range(experiments):\n",
    "    for seed in range(NRUNS):\n",
    "        full_stdev_fun.append(stdev_fun[exp])"
   ]
  },
  {
   "cell_type": "code",
   "execution_count": 155,
   "metadata": {},
   "outputs": [],
   "source": [
    "ginis = []\n",
    "palmas = []\n",
    "\n",
    "for idx, traders in enumerate(trdrs):\n",
    "    money = np.array([x.var.money[-1] for x in trdrs[idx]])\n",
    "    stocks = np.array([x.var.stocks[-1] for x in trdrs[idx]])\n",
    "    wealth = money + (stocks * orbs[idx].tick_close_price[-1])\n",
    "    \n",
    "    share_top_10 = sum(np.sort(wealth)[int(len(wealth) * 0.9):]) / sum(wealth)\n",
    "    share_bottom_40 = sum(np.sort(wealth)[:int(len(wealth) * 0.4)]) / sum(wealth)\n",
    "    palmas.append(share_top_10 / share_bottom_40)\n",
    "    \n",
    "    ginis.append(gini(wealth))"
   ]
  },
  {
   "cell_type": "code",
   "execution_count": 156,
   "metadata": {},
   "outputs": [],
   "source": [
    "# calc redistribution, profits ... abs \n",
    "profits = []\n",
    "\n",
    "# determine the start and end wealth of the bubble\n",
    "for seed, traders in enumerate(trdrs):\n",
    "    money_start = np.array([x.var.money[0] for x in traders])\n",
    "    stocks_start = np.array([x.var.stocks[0] for x in traders])\n",
    "    wealth_start = money_start + (stocks_start * orbs[seed].tick_close_price[0])\n",
    "\n",
    "    money_end = np.array([x.var.money[-1] for x in traders])\n",
    "    stocks_end = np.array([x.var.stocks[-1] for x in traders])\n",
    "    wealth_end = money_end + (stocks_end * orbs[seed].tick_close_price[-1])\n",
    "    \n",
    "    # profits\n",
    "    profits.append((np.array(wealth_end) - np.array(wealth_start)) / np.array(wealth_start))"
   ]
  },
  {
   "cell_type": "code",
   "execution_count": 157,
   "metadata": {},
   "outputs": [],
   "source": [
    "# split the data in parts of 10 \n",
    "gini_averages = []\n",
    "gini_conf_interval_uppers = []\n",
    "gini_conf_intervals_lowers = []\n",
    "\n",
    "palma_averages = []\n",
    "palma_conf_interval_uppers = []\n",
    "palma_conf_intervals_lowers = []\n",
    "\n",
    "for x in range(experiments):\n",
    "    y = x*NRUNS\n",
    "    g = ginis[y:y+NRUNS]\n",
    "    \n",
    "    gini_averages.append(np.mean(g))\n",
    "    sample_stdev = np.std(g)\n",
    "    sigma = sample_stdev/math.sqrt(len(g))\n",
    "    lower, upper = stats.t.interval(alpha = 0.95, df= 24, loc = np.mean(g), scale = sigma) \n",
    "    gini_conf_interval_uppers.append(min(upper, 1.0))\n",
    "    gini_conf_intervals_lowers.append(lower)\n",
    "    \n",
    "    p = palmas[y:y+NRUNS]\n",
    "    palma_averages.append(np.mean(p))\n",
    "    sample_stdev = np.std(p)\n",
    "    sigma = sample_stdev/math.sqrt(len(p))\n",
    "    lower, upper = stats.t.interval(alpha = 0.95, df= 24, loc = np.mean(p), scale = sigma) \n",
    "    palma_conf_interval_uppers.append(upper)\n",
    "    palma_conf_intervals_lowers.append(max(lower, 0))"
   ]
  },
  {
   "cell_type": "code",
   "execution_count": 161,
   "metadata": {},
   "outputs": [
    {
     "data": {
      "image/png": "[encoded data removed]",
      "text/plain": [
       "<Figure size 1152x360 with 2 Axes>"
      ]
     },
     "metadata": {},
     "output_type": "display_data"
    }
   ],
   "source": [
    "fig, (ax1, ax2) = plt.subplots(1, 2, figsize=[16,5])\n",
    "\n",
    "ax1.plot(stdev_fun, gini_averages)\n",
    "ax1.plot(stdev_fun, gini_conf_interval_uppers, 'k--')\n",
    "ax1.plot(stdev_fun, gini_conf_intervals_lowers, 'k--')\n",
    "\n",
    "ax2.plot(stdev_fun, palma_averages)\n",
    "ax2.plot(stdev_fun, palma_conf_interval_uppers, 'k--')\n",
    "ax2.plot(stdev_fun, palma_conf_intervals_lowers, 'k--')\n",
    "\n",
    "ax1.set_ylabel('Gini', fontsize=14)\n",
    "ax2.set_ylabel('Palma', fontsize=14)\n",
    "\n",
    "for ax in [ax1, ax2]:\n",
    "    ax.set_xlabel('standard deviation noise $\\sigma^{\\epsilon}$', fontsize=14)\n",
    "\n",
    "fig.savefig('stdev_f_inequality.png', dpi=200, bbox_inches = 'tight', pad_inches = 0)"
   ]
  },
  {
   "cell_type": "markdown",
   "metadata": {},
   "source": [
    "# Robustness check what if money is reset at the end of every simulation.\n",
    "\n",
    "Then the effect disappears."
   ]
  },
  {
   "cell_type": "code",
   "execution_count": 59,
   "metadata": {},
   "outputs": [
    {
     "name": "stdout",
     "output_type": "stream",
     "text": [
      "Start of simulation  0\n",
      "Start of simulation  1\n"
     ]
    }
   ],
   "source": [
    "trdrs_hypo = []\n",
    "orbs_hypo = []\n",
    "for seed in range(NRUNS): \n",
    "    traders_hypo, orderbook_hypo = init_objects_distr(params, seed)\n",
    "    traders_hypo, orderbook_hypo = volatility_inequality_model_reset_wealth(traders_hypo, orderbook_hypo, params, seed)\n",
    "    trdrs_hypo.append(traders_hypo)\n",
    "    orbs_hypo.append(orderbook_hypo)"
   ]
  },
  {
   "cell_type": "code",
   "execution_count": 60,
   "metadata": {},
   "outputs": [],
   "source": [
    "for seed, traders in enumerate(trdrs_hypo):\n",
    "    hypo_money_end = np.array([x.var.hypothetical_money[-1] for x in traders])\n",
    "    hypo_stocks_end = np.array([x.var.hypothetical_stocks[-1] for x in traders])\n",
    "    hypo_wealth_end = hypo_money_end + (hypo_stocks_end * orbs0[seed].tick_close_price[-1])"
   ]
  },
  {
   "cell_type": "code",
   "execution_count": 68,
   "metadata": {},
   "outputs": [
    {
     "data": {
      "text/plain": [
       "0.5266438215060782"
      ]
     },
     "execution_count": 68,
     "metadata": {},
     "output_type": "execute_result"
    }
   ],
   "source": [
    "share_top_10 = sum(np.sort(hypo_wealth_end - min(hypo_wealth_end))[int(len(hypo_wealth_end - min(hypo_wealth_end)) * 0.9):]) / sum(hypo_wealth_end - min(hypo_wealth_end))\n",
    "share_bottom_40 = sum(np.sort(hypo_wealth_end - min(hypo_wealth_end))[:int(len(hypo_wealth_end - min(hypo_wealth_end)) * 0.4)]) / sum(hypo_wealth_end - min(hypo_wealth_end))\n",
    "share_top_10 / share_bottom_40"
   ]
  },
  {
   "cell_type": "code",
   "execution_count": 67,
   "metadata": {},
   "outputs": [
    {
     "data": {
      "text/plain": [
       "0.15665383663064242"
      ]
     },
     "execution_count": 67,
     "metadata": {},
     "output_type": "execute_result"
    }
   ],
   "source": [
    "gini(hypo_wealth_end - min(hypo_wealth_end))"
   ]
  }
 ],
 "metadata": {
  "kernelspec": {
   "display_name": "Python 3",
   "language": "python",
   "name": "python3"
  },
  "language_info": {
   "codemirror_mode": {
    "name": "ipython",
    "version": 3
   },
   "file_extension": ".py",
   "mimetype": "text/x-python",
   "name": "python",
   "nbconvert_exporter": "python",
   "pygments_lexer": "ipython3",
   "version": "3.7.2"
  }
 },
 "nbformat": 4,
 "nbformat_minor": 2
}
